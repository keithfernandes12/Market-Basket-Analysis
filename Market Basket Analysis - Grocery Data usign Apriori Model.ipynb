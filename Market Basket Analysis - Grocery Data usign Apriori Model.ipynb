{
 "cells": [
  {
   "cell_type": "markdown",
   "metadata": {},
   "source": [
    "# Market Basket Analysis - Grocery Data using Apriori Model\n",
    "## The Apriori Model\n",
    "\n",
    "* The Apriori Algorithm is the foundation of market basket analysis and is used to find items frequently bought together. This is very useful for retailers because:\n",
    "    - Both X and Y can be placed on the same shelf so that buyers of one item would be prompted to buy the other.\n",
    "    - Promotional discounts could be applied to just one out of the two items.\n",
    "    - Advertisements on X could be targeted at buyers who purchase Y.\n",
    "    - X and Y could be combined into a new product, such as having Y in flavors of X.\n",
    "    \n",
    "## Affinity analysis\n",
    "- Affinity analysis is a data analysis and data mining technique that discovers **co-occurrence relationships** among activities performed by (or recorded about) specific individuals or groups. \n",
    "- In general, this can be applied to any process where agents can be uniquely identified and information about their activities can be recorded. In retail, affinity analysis is used to **perform market basket analysis**, in which retailers seek to understand the purchase behavior of customers.\n",
    "\n",
    "## Association Rule Mining\n",
    "- Market Basket Analysis is one of the key techniques used by large retailers to uncover associations between items. \n",
    "- It works by looking for **combinations of items that occur together frequently** in transactions. To put it another way, it allows retailers to identify relationships between the items that people buy.\n",
    "\n",
    "## Apriori Algorithm\n",
    "- Apriori is an algorithm for frequent itemset mining and association rule learning over relational databases. \n",
    "- It proceeds by identifying the **frequent individual items** in the database and extending them to larger and larger item sets as long as those item sets appear sufficiently often in the database. The frequent itemsets determined by Apriori can be used to determine association rules which highlight general trends in the database: this has applications in domains such as market basket analysis.\n",
    "    - **Support**: This says how popular an itemset is, as measured by the proportion of transactions in which an itemset appears.\n",
    "    - **Confidence**: This says how likely item Y is purchased when item X is purchased, expressed as {X -> Y}. This is measured by the proportion of transactions with item X, in which item Y also appears.\n",
    "    - **Lift**: This says how likely item Y is purchased when item X is purchased while controlling for how popular item Y is."
   ]
  },
  {
   "cell_type": "code",
   "execution_count": 1,
   "metadata": {},
   "outputs": [],
   "source": [
    "# Importing the modules\n",
    "import numpy as np\n",
    "import pandas as pd\n",
    "\n",
    "from mlxtend.frequent_patterns import apriori\n",
    "from mlxtend.frequent_patterns import association_rules\n",
    "from mlxtend.preprocessing import TransactionEncoder\n",
    "\n",
    "import squarify\n",
    "import matplotlib\n",
    "from matplotlib import style\n",
    "import matplotlib.pyplot as plt\n",
    "import seaborn as sns\n",
    "from PyARMViz import PyARMViz\n",
    "from PyARMViz.Rule import generate_rule_from_dict\n",
    "\n",
    "sns.set()\n",
    "matplotlib.rcParams['figure.figsize']=(36,36)\n",
    "style.use('ggplot')"
   ]
  },
  {
   "cell_type": "markdown",
   "metadata": {},
   "source": [
    "## 1. Loading the Dataset"
   ]
  },
  {
   "cell_type": "code",
   "execution_count": 2,
   "metadata": {},
   "outputs": [
    {
     "data": {
      "text/html": [
       "<div>\n",
       "<style scoped>\n",
       "    .dataframe tbody tr th:only-of-type {\n",
       "        vertical-align: middle;\n",
       "    }\n",
       "\n",
       "    .dataframe tbody tr th {\n",
       "        vertical-align: top;\n",
       "    }\n",
       "\n",
       "    .dataframe thead th {\n",
       "        text-align: right;\n",
       "    }\n",
       "</style>\n",
       "<table border=\"1\" class=\"dataframe\">\n",
       "  <thead>\n",
       "    <tr style=\"text-align: right;\">\n",
       "      <th></th>\n",
       "      <th>Member_number</th>\n",
       "      <th>Date</th>\n",
       "      <th>itemDescription</th>\n",
       "    </tr>\n",
       "  </thead>\n",
       "  <tbody>\n",
       "    <tr>\n",
       "      <th>0</th>\n",
       "      <td>1808</td>\n",
       "      <td>21-07-2015</td>\n",
       "      <td>tropical fruit</td>\n",
       "    </tr>\n",
       "    <tr>\n",
       "      <th>1</th>\n",
       "      <td>2552</td>\n",
       "      <td>05-01-2015</td>\n",
       "      <td>whole milk</td>\n",
       "    </tr>\n",
       "    <tr>\n",
       "      <th>2</th>\n",
       "      <td>2300</td>\n",
       "      <td>19-09-2015</td>\n",
       "      <td>pip fruit</td>\n",
       "    </tr>\n",
       "    <tr>\n",
       "      <th>3</th>\n",
       "      <td>1187</td>\n",
       "      <td>12-12-2015</td>\n",
       "      <td>other vegetables</td>\n",
       "    </tr>\n",
       "    <tr>\n",
       "      <th>4</th>\n",
       "      <td>3037</td>\n",
       "      <td>01-02-2015</td>\n",
       "      <td>whole milk</td>\n",
       "    </tr>\n",
       "    <tr>\n",
       "      <th>...</th>\n",
       "      <td>...</td>\n",
       "      <td>...</td>\n",
       "      <td>...</td>\n",
       "    </tr>\n",
       "    <tr>\n",
       "      <th>38760</th>\n",
       "      <td>4471</td>\n",
       "      <td>08-10-2014</td>\n",
       "      <td>sliced cheese</td>\n",
       "    </tr>\n",
       "    <tr>\n",
       "      <th>38761</th>\n",
       "      <td>2022</td>\n",
       "      <td>23-02-2014</td>\n",
       "      <td>candy</td>\n",
       "    </tr>\n",
       "    <tr>\n",
       "      <th>38762</th>\n",
       "      <td>1097</td>\n",
       "      <td>16-04-2014</td>\n",
       "      <td>cake bar</td>\n",
       "    </tr>\n",
       "    <tr>\n",
       "      <th>38763</th>\n",
       "      <td>1510</td>\n",
       "      <td>03-12-2014</td>\n",
       "      <td>fruit/vegetable juice</td>\n",
       "    </tr>\n",
       "    <tr>\n",
       "      <th>38764</th>\n",
       "      <td>1521</td>\n",
       "      <td>26-12-2014</td>\n",
       "      <td>cat food</td>\n",
       "    </tr>\n",
       "  </tbody>\n",
       "</table>\n",
       "<p>38765 rows × 3 columns</p>\n",
       "</div>"
      ],
      "text/plain": [
       "       Member_number        Date        itemDescription\n",
       "0               1808  21-07-2015         tropical fruit\n",
       "1               2552  05-01-2015             whole milk\n",
       "2               2300  19-09-2015              pip fruit\n",
       "3               1187  12-12-2015       other vegetables\n",
       "4               3037  01-02-2015             whole milk\n",
       "...              ...         ...                    ...\n",
       "38760           4471  08-10-2014          sliced cheese\n",
       "38761           2022  23-02-2014                  candy\n",
       "38762           1097  16-04-2014               cake bar\n",
       "38763           1510  03-12-2014  fruit/vegetable juice\n",
       "38764           1521  26-12-2014               cat food\n",
       "\n",
       "[38765 rows x 3 columns]"
      ]
     },
     "execution_count": 2,
     "metadata": {},
     "output_type": "execute_result"
    }
   ],
   "source": [
    "basket = pd.read_csv('Groceries_dataset.csv')\n",
    "basket"
   ]
  },
  {
   "cell_type": "markdown",
   "metadata": {},
   "source": [
    "## 2. Understanding the Dataset"
   ]
  },
  {
   "cell_type": "code",
   "execution_count": 3,
   "metadata": {},
   "outputs": [
    {
     "name": "stderr",
     "output_type": "stream",
     "text": [
      "C:\\Users\\Keith Fernandes\\AppData\\Local\\Temp\\ipykernel_5632\\613344566.py:1: UserWarning: Parsing dates in %d-%m-%Y format when dayfirst=False (the default) was specified. Pass `dayfirst=True` or specify a format to silence this warning.\n",
      "  basket['Date'] = pd.to_datetime(basket['Date'])\n"
     ]
    },
    {
     "data": {
      "text/html": [
       "<div>\n",
       "<style scoped>\n",
       "    .dataframe tbody tr th:only-of-type {\n",
       "        vertical-align: middle;\n",
       "    }\n",
       "\n",
       "    .dataframe tbody tr th {\n",
       "        vertical-align: top;\n",
       "    }\n",
       "\n",
       "    .dataframe thead th {\n",
       "        text-align: right;\n",
       "    }\n",
       "</style>\n",
       "<table border=\"1\" class=\"dataframe\">\n",
       "  <thead>\n",
       "    <tr style=\"text-align: right;\">\n",
       "      <th></th>\n",
       "      <th>Member_number</th>\n",
       "      <th>Date</th>\n",
       "      <th>itemDescription</th>\n",
       "    </tr>\n",
       "  </thead>\n",
       "  <tbody>\n",
       "    <tr>\n",
       "      <th>9090</th>\n",
       "      <td>1808</td>\n",
       "      <td>2014-11-29</td>\n",
       "      <td>meat</td>\n",
       "    </tr>\n",
       "    <tr>\n",
       "      <th>25239</th>\n",
       "      <td>1808</td>\n",
       "      <td>2014-11-29</td>\n",
       "      <td>whole milk</td>\n",
       "    </tr>\n",
       "    <tr>\n",
       "      <th>11488</th>\n",
       "      <td>1808</td>\n",
       "      <td>2014-12-15</td>\n",
       "      <td>sugar</td>\n",
       "    </tr>\n",
       "    <tr>\n",
       "      <th>27637</th>\n",
       "      <td>1808</td>\n",
       "      <td>2014-12-15</td>\n",
       "      <td>citrus fruit</td>\n",
       "    </tr>\n",
       "    <tr>\n",
       "      <th>38731</th>\n",
       "      <td>1808</td>\n",
       "      <td>2014-12-15</td>\n",
       "      <td>napkins</td>\n",
       "    </tr>\n",
       "    <tr>\n",
       "      <th>4355</th>\n",
       "      <td>1808</td>\n",
       "      <td>2015-02-04</td>\n",
       "      <td>long life bakery product</td>\n",
       "    </tr>\n",
       "    <tr>\n",
       "      <th>20504</th>\n",
       "      <td>1808</td>\n",
       "      <td>2015-02-04</td>\n",
       "      <td>semi-finished bread</td>\n",
       "    </tr>\n",
       "    <tr>\n",
       "      <th>0</th>\n",
       "      <td>1808</td>\n",
       "      <td>2015-07-21</td>\n",
       "      <td>tropical fruit</td>\n",
       "    </tr>\n",
       "    <tr>\n",
       "      <th>16149</th>\n",
       "      <td>1808</td>\n",
       "      <td>2015-07-21</td>\n",
       "      <td>rolls/buns</td>\n",
       "    </tr>\n",
       "    <tr>\n",
       "      <th>36088</th>\n",
       "      <td>1808</td>\n",
       "      <td>2015-07-21</td>\n",
       "      <td>candy</td>\n",
       "    </tr>\n",
       "  </tbody>\n",
       "</table>\n",
       "</div>"
      ],
      "text/plain": [
       "       Member_number       Date           itemDescription\n",
       "9090            1808 2014-11-29                      meat\n",
       "25239           1808 2014-11-29                whole milk\n",
       "11488           1808 2014-12-15                     sugar\n",
       "27637           1808 2014-12-15              citrus fruit\n",
       "38731           1808 2014-12-15                   napkins\n",
       "4355            1808 2015-02-04  long life bakery product\n",
       "20504           1808 2015-02-04       semi-finished bread\n",
       "0               1808 2015-07-21            tropical fruit\n",
       "16149           1808 2015-07-21                rolls/buns\n",
       "36088           1808 2015-07-21                     candy"
      ]
     },
     "execution_count": 3,
     "metadata": {},
     "output_type": "execute_result"
    }
   ],
   "source": [
    "basket['Date'] = pd.to_datetime(basket['Date'])\n",
    "\n",
    "# Let get the data of purchases made by Member Number: 1808 in an accending order\n",
    "basket[basket['Member_number'] == 1808].sort_values(by='Date')"
   ]
  },
  {
   "cell_type": "code",
   "execution_count": 4,
   "metadata": {},
   "outputs": [
    {
     "name": "stdout",
     "output_type": "stream",
     "text": [
      "14963\n"
     ]
    },
    {
     "data": {
      "text/plain": [
       "['whole milk', 'pastry', 'salty snack']"
      ]
     },
     "execution_count": 4,
     "metadata": {},
     "output_type": "execute_result"
    }
   ],
   "source": [
    "# Lets get the items purchased from each transaction (purchases made by a member on a single date)\n",
    "#   We can achive that by:\n",
    "#       1. Grouping all uniques combinations of Member_number and Date in the 'basket' DataFrame.\n",
    "#       2. After grouping, select the 'itemDescription' column from each group\n",
    "#       3. Create a list of all the items in each group (each group contains itemDescription i.e. items purchased in a single transaction)\n",
    "#       4. Create a list of of all the lists created in the step before\n",
    "\n",
    "transactions = basket.groupby(['Member_number', 'Date'])['itemDescription'].apply(list).tolist()\n",
    "print(len(transactions))\n",
    "transactions[0]"
   ]
  },
  {
   "cell_type": "markdown",
   "metadata": {},
   "source": [
    "## 3. Preparing the Dataset"
   ]
  },
  {
   "cell_type": "code",
   "execution_count": 5,
   "metadata": {},
   "outputs": [
    {
     "data": {
      "text/plain": [
       "array([[False, False, False, ...,  True, False, False],\n",
       "       [False, False, False, ...,  True,  True, False],\n",
       "       [False, False, False, ..., False, False, False],\n",
       "       ...,\n",
       "       [False, False, False, ..., False, False, False],\n",
       "       [False, False, False, ..., False, False, False],\n",
       "       [False, False, False, ..., False, False, False]])"
      ]
     },
     "execution_count": 5,
     "metadata": {},
     "output_type": "execute_result"
    }
   ],
   "source": [
    "# Using the TransactionEncoder from the mlxtend module to encode our data\n",
    "te = TransactionEncoder()\n",
    "te_arry = te.fit(transactions).transform(transactions)\n",
    "te_arry"
   ]
  },
  {
   "cell_type": "code",
   "execution_count": 6,
   "metadata": {},
   "outputs": [
    {
     "data": {
      "text/html": [
       "<div>\n",
       "<style scoped>\n",
       "    .dataframe tbody tr th:only-of-type {\n",
       "        vertical-align: middle;\n",
       "    }\n",
       "\n",
       "    .dataframe tbody tr th {\n",
       "        vertical-align: top;\n",
       "    }\n",
       "\n",
       "    .dataframe thead th {\n",
       "        text-align: right;\n",
       "    }\n",
       "</style>\n",
       "<table border=\"1\" class=\"dataframe\">\n",
       "  <thead>\n",
       "    <tr style=\"text-align: right;\">\n",
       "      <th></th>\n",
       "      <th>Instant food products</th>\n",
       "      <th>UHT-milk</th>\n",
       "      <th>abrasive cleaner</th>\n",
       "      <th>artif. sweetener</th>\n",
       "      <th>baby cosmetics</th>\n",
       "      <th>bags</th>\n",
       "      <th>baking powder</th>\n",
       "      <th>bathroom cleaner</th>\n",
       "      <th>beef</th>\n",
       "      <th>berries</th>\n",
       "      <th>...</th>\n",
       "      <th>turkey</th>\n",
       "      <th>vinegar</th>\n",
       "      <th>waffles</th>\n",
       "      <th>whipped/sour cream</th>\n",
       "      <th>whisky</th>\n",
       "      <th>white bread</th>\n",
       "      <th>white wine</th>\n",
       "      <th>whole milk</th>\n",
       "      <th>yogurt</th>\n",
       "      <th>zwieback</th>\n",
       "    </tr>\n",
       "  </thead>\n",
       "  <tbody>\n",
       "    <tr>\n",
       "      <th>0</th>\n",
       "      <td>False</td>\n",
       "      <td>False</td>\n",
       "      <td>False</td>\n",
       "      <td>False</td>\n",
       "      <td>False</td>\n",
       "      <td>False</td>\n",
       "      <td>False</td>\n",
       "      <td>False</td>\n",
       "      <td>False</td>\n",
       "      <td>False</td>\n",
       "      <td>...</td>\n",
       "      <td>False</td>\n",
       "      <td>False</td>\n",
       "      <td>False</td>\n",
       "      <td>False</td>\n",
       "      <td>False</td>\n",
       "      <td>False</td>\n",
       "      <td>False</td>\n",
       "      <td>True</td>\n",
       "      <td>False</td>\n",
       "      <td>False</td>\n",
       "    </tr>\n",
       "    <tr>\n",
       "      <th>1</th>\n",
       "      <td>False</td>\n",
       "      <td>False</td>\n",
       "      <td>False</td>\n",
       "      <td>False</td>\n",
       "      <td>False</td>\n",
       "      <td>False</td>\n",
       "      <td>False</td>\n",
       "      <td>False</td>\n",
       "      <td>False</td>\n",
       "      <td>False</td>\n",
       "      <td>...</td>\n",
       "      <td>False</td>\n",
       "      <td>False</td>\n",
       "      <td>False</td>\n",
       "      <td>False</td>\n",
       "      <td>False</td>\n",
       "      <td>False</td>\n",
       "      <td>False</td>\n",
       "      <td>True</td>\n",
       "      <td>True</td>\n",
       "      <td>False</td>\n",
       "    </tr>\n",
       "    <tr>\n",
       "      <th>2</th>\n",
       "      <td>False</td>\n",
       "      <td>False</td>\n",
       "      <td>False</td>\n",
       "      <td>False</td>\n",
       "      <td>False</td>\n",
       "      <td>False</td>\n",
       "      <td>False</td>\n",
       "      <td>False</td>\n",
       "      <td>False</td>\n",
       "      <td>False</td>\n",
       "      <td>...</td>\n",
       "      <td>False</td>\n",
       "      <td>False</td>\n",
       "      <td>False</td>\n",
       "      <td>False</td>\n",
       "      <td>False</td>\n",
       "      <td>False</td>\n",
       "      <td>False</td>\n",
       "      <td>False</td>\n",
       "      <td>False</td>\n",
       "      <td>False</td>\n",
       "    </tr>\n",
       "    <tr>\n",
       "      <th>3</th>\n",
       "      <td>False</td>\n",
       "      <td>False</td>\n",
       "      <td>False</td>\n",
       "      <td>False</td>\n",
       "      <td>False</td>\n",
       "      <td>False</td>\n",
       "      <td>False</td>\n",
       "      <td>False</td>\n",
       "      <td>False</td>\n",
       "      <td>False</td>\n",
       "      <td>...</td>\n",
       "      <td>False</td>\n",
       "      <td>False</td>\n",
       "      <td>False</td>\n",
       "      <td>False</td>\n",
       "      <td>False</td>\n",
       "      <td>False</td>\n",
       "      <td>False</td>\n",
       "      <td>False</td>\n",
       "      <td>False</td>\n",
       "      <td>False</td>\n",
       "    </tr>\n",
       "    <tr>\n",
       "      <th>4</th>\n",
       "      <td>False</td>\n",
       "      <td>False</td>\n",
       "      <td>False</td>\n",
       "      <td>False</td>\n",
       "      <td>False</td>\n",
       "      <td>False</td>\n",
       "      <td>False</td>\n",
       "      <td>False</td>\n",
       "      <td>False</td>\n",
       "      <td>False</td>\n",
       "      <td>...</td>\n",
       "      <td>False</td>\n",
       "      <td>False</td>\n",
       "      <td>False</td>\n",
       "      <td>False</td>\n",
       "      <td>False</td>\n",
       "      <td>False</td>\n",
       "      <td>False</td>\n",
       "      <td>False</td>\n",
       "      <td>False</td>\n",
       "      <td>False</td>\n",
       "    </tr>\n",
       "    <tr>\n",
       "      <th>...</th>\n",
       "      <td>...</td>\n",
       "      <td>...</td>\n",
       "      <td>...</td>\n",
       "      <td>...</td>\n",
       "      <td>...</td>\n",
       "      <td>...</td>\n",
       "      <td>...</td>\n",
       "      <td>...</td>\n",
       "      <td>...</td>\n",
       "      <td>...</td>\n",
       "      <td>...</td>\n",
       "      <td>...</td>\n",
       "      <td>...</td>\n",
       "      <td>...</td>\n",
       "      <td>...</td>\n",
       "      <td>...</td>\n",
       "      <td>...</td>\n",
       "      <td>...</td>\n",
       "      <td>...</td>\n",
       "      <td>...</td>\n",
       "      <td>...</td>\n",
       "    </tr>\n",
       "    <tr>\n",
       "      <th>14958</th>\n",
       "      <td>False</td>\n",
       "      <td>False</td>\n",
       "      <td>False</td>\n",
       "      <td>False</td>\n",
       "      <td>False</td>\n",
       "      <td>False</td>\n",
       "      <td>False</td>\n",
       "      <td>False</td>\n",
       "      <td>False</td>\n",
       "      <td>False</td>\n",
       "      <td>...</td>\n",
       "      <td>False</td>\n",
       "      <td>False</td>\n",
       "      <td>False</td>\n",
       "      <td>True</td>\n",
       "      <td>False</td>\n",
       "      <td>False</td>\n",
       "      <td>False</td>\n",
       "      <td>False</td>\n",
       "      <td>False</td>\n",
       "      <td>False</td>\n",
       "    </tr>\n",
       "    <tr>\n",
       "      <th>14959</th>\n",
       "      <td>False</td>\n",
       "      <td>False</td>\n",
       "      <td>False</td>\n",
       "      <td>False</td>\n",
       "      <td>False</td>\n",
       "      <td>False</td>\n",
       "      <td>False</td>\n",
       "      <td>False</td>\n",
       "      <td>False</td>\n",
       "      <td>False</td>\n",
       "      <td>...</td>\n",
       "      <td>False</td>\n",
       "      <td>False</td>\n",
       "      <td>False</td>\n",
       "      <td>False</td>\n",
       "      <td>False</td>\n",
       "      <td>False</td>\n",
       "      <td>False</td>\n",
       "      <td>False</td>\n",
       "      <td>False</td>\n",
       "      <td>False</td>\n",
       "    </tr>\n",
       "    <tr>\n",
       "      <th>14960</th>\n",
       "      <td>False</td>\n",
       "      <td>False</td>\n",
       "      <td>False</td>\n",
       "      <td>False</td>\n",
       "      <td>False</td>\n",
       "      <td>False</td>\n",
       "      <td>False</td>\n",
       "      <td>False</td>\n",
       "      <td>False</td>\n",
       "      <td>False</td>\n",
       "      <td>...</td>\n",
       "      <td>False</td>\n",
       "      <td>False</td>\n",
       "      <td>False</td>\n",
       "      <td>False</td>\n",
       "      <td>False</td>\n",
       "      <td>False</td>\n",
       "      <td>False</td>\n",
       "      <td>False</td>\n",
       "      <td>False</td>\n",
       "      <td>False</td>\n",
       "    </tr>\n",
       "    <tr>\n",
       "      <th>14961</th>\n",
       "      <td>False</td>\n",
       "      <td>False</td>\n",
       "      <td>False</td>\n",
       "      <td>False</td>\n",
       "      <td>False</td>\n",
       "      <td>False</td>\n",
       "      <td>False</td>\n",
       "      <td>False</td>\n",
       "      <td>False</td>\n",
       "      <td>False</td>\n",
       "      <td>...</td>\n",
       "      <td>False</td>\n",
       "      <td>False</td>\n",
       "      <td>False</td>\n",
       "      <td>False</td>\n",
       "      <td>False</td>\n",
       "      <td>False</td>\n",
       "      <td>False</td>\n",
       "      <td>False</td>\n",
       "      <td>False</td>\n",
       "      <td>False</td>\n",
       "    </tr>\n",
       "    <tr>\n",
       "      <th>14962</th>\n",
       "      <td>False</td>\n",
       "      <td>False</td>\n",
       "      <td>False</td>\n",
       "      <td>False</td>\n",
       "      <td>False</td>\n",
       "      <td>False</td>\n",
       "      <td>False</td>\n",
       "      <td>False</td>\n",
       "      <td>False</td>\n",
       "      <td>False</td>\n",
       "      <td>...</td>\n",
       "      <td>False</td>\n",
       "      <td>False</td>\n",
       "      <td>False</td>\n",
       "      <td>False</td>\n",
       "      <td>False</td>\n",
       "      <td>False</td>\n",
       "      <td>False</td>\n",
       "      <td>False</td>\n",
       "      <td>False</td>\n",
       "      <td>False</td>\n",
       "    </tr>\n",
       "  </tbody>\n",
       "</table>\n",
       "<p>14963 rows × 167 columns</p>\n",
       "</div>"
      ],
      "text/plain": [
       "       Instant food products  UHT-milk  abrasive cleaner  artif. sweetener  \\\n",
       "0                      False     False             False             False   \n",
       "1                      False     False             False             False   \n",
       "2                      False     False             False             False   \n",
       "3                      False     False             False             False   \n",
       "4                      False     False             False             False   \n",
       "...                      ...       ...               ...               ...   \n",
       "14958                  False     False             False             False   \n",
       "14959                  False     False             False             False   \n",
       "14960                  False     False             False             False   \n",
       "14961                  False     False             False             False   \n",
       "14962                  False     False             False             False   \n",
       "\n",
       "       baby cosmetics   bags  baking powder  bathroom cleaner   beef  berries  \\\n",
       "0               False  False          False             False  False    False   \n",
       "1               False  False          False             False  False    False   \n",
       "2               False  False          False             False  False    False   \n",
       "3               False  False          False             False  False    False   \n",
       "4               False  False          False             False  False    False   \n",
       "...               ...    ...            ...               ...    ...      ...   \n",
       "14958           False  False          False             False  False    False   \n",
       "14959           False  False          False             False  False    False   \n",
       "14960           False  False          False             False  False    False   \n",
       "14961           False  False          False             False  False    False   \n",
       "14962           False  False          False             False  False    False   \n",
       "\n",
       "       ...  turkey  vinegar  waffles  whipped/sour cream  whisky  white bread  \\\n",
       "0      ...   False    False    False               False   False        False   \n",
       "1      ...   False    False    False               False   False        False   \n",
       "2      ...   False    False    False               False   False        False   \n",
       "3      ...   False    False    False               False   False        False   \n",
       "4      ...   False    False    False               False   False        False   \n",
       "...    ...     ...      ...      ...                 ...     ...          ...   \n",
       "14958  ...   False    False    False                True   False        False   \n",
       "14959  ...   False    False    False               False   False        False   \n",
       "14960  ...   False    False    False               False   False        False   \n",
       "14961  ...   False    False    False               False   False        False   \n",
       "14962  ...   False    False    False               False   False        False   \n",
       "\n",
       "       white wine  whole milk  yogurt  zwieback  \n",
       "0           False        True   False     False  \n",
       "1           False        True    True     False  \n",
       "2           False       False   False     False  \n",
       "3           False       False   False     False  \n",
       "4           False       False   False     False  \n",
       "...           ...         ...     ...       ...  \n",
       "14958       False       False   False     False  \n",
       "14959       False       False   False     False  \n",
       "14960       False       False   False     False  \n",
       "14961       False       False   False     False  \n",
       "14962       False       False   False     False  \n",
       "\n",
       "[14963 rows x 167 columns]"
      ]
     },
     "execution_count": 6,
     "metadata": {},
     "output_type": "execute_result"
    }
   ],
   "source": [
    "# Converting to a Pandas DataFrame\n",
    "transactions = pd.DataFrame(te_arry, columns=te.columns_)\n",
    "transactions"
   ]
  },
  {
   "cell_type": "code",
   "execution_count": 7,
   "metadata": {},
   "outputs": [
    {
     "name": "stdout",
     "output_type": "stream",
     "text": [
      "[False]\n"
     ]
    },
    {
     "data": {
      "text/html": [
       "<div>\n",
       "<style scoped>\n",
       "    .dataframe tbody tr th:only-of-type {\n",
       "        vertical-align: middle;\n",
       "    }\n",
       "\n",
       "    .dataframe tbody tr th {\n",
       "        vertical-align: top;\n",
       "    }\n",
       "\n",
       "    .dataframe thead th {\n",
       "        text-align: right;\n",
       "    }\n",
       "</style>\n",
       "<table border=\"1\" class=\"dataframe\">\n",
       "  <thead>\n",
       "    <tr style=\"text-align: right;\">\n",
       "      <th></th>\n",
       "      <th>Instant food products</th>\n",
       "      <th>UHT-milk</th>\n",
       "      <th>abrasive cleaner</th>\n",
       "      <th>artif. sweetener</th>\n",
       "      <th>baby cosmetics</th>\n",
       "      <th>bags</th>\n",
       "      <th>baking powder</th>\n",
       "      <th>bathroom cleaner</th>\n",
       "      <th>beef</th>\n",
       "      <th>berries</th>\n",
       "      <th>...</th>\n",
       "      <th>turkey</th>\n",
       "      <th>vinegar</th>\n",
       "      <th>waffles</th>\n",
       "      <th>whipped/sour cream</th>\n",
       "      <th>whisky</th>\n",
       "      <th>white bread</th>\n",
       "      <th>white wine</th>\n",
       "      <th>whole milk</th>\n",
       "      <th>yogurt</th>\n",
       "      <th>zwieback</th>\n",
       "    </tr>\n",
       "  </thead>\n",
       "  <tbody>\n",
       "    <tr>\n",
       "      <th>count</th>\n",
       "      <td>14963</td>\n",
       "      <td>14963</td>\n",
       "      <td>14963</td>\n",
       "      <td>14963</td>\n",
       "      <td>14963</td>\n",
       "      <td>14963</td>\n",
       "      <td>14963</td>\n",
       "      <td>14963</td>\n",
       "      <td>14963</td>\n",
       "      <td>14963</td>\n",
       "      <td>...</td>\n",
       "      <td>14963</td>\n",
       "      <td>14963</td>\n",
       "      <td>14963</td>\n",
       "      <td>14963</td>\n",
       "      <td>14963</td>\n",
       "      <td>14963</td>\n",
       "      <td>14963</td>\n",
       "      <td>14963</td>\n",
       "      <td>14963</td>\n",
       "      <td>14963</td>\n",
       "    </tr>\n",
       "    <tr>\n",
       "      <th>unique</th>\n",
       "      <td>2</td>\n",
       "      <td>2</td>\n",
       "      <td>2</td>\n",
       "      <td>2</td>\n",
       "      <td>2</td>\n",
       "      <td>2</td>\n",
       "      <td>2</td>\n",
       "      <td>2</td>\n",
       "      <td>2</td>\n",
       "      <td>2</td>\n",
       "      <td>...</td>\n",
       "      <td>2</td>\n",
       "      <td>2</td>\n",
       "      <td>2</td>\n",
       "      <td>2</td>\n",
       "      <td>2</td>\n",
       "      <td>2</td>\n",
       "      <td>2</td>\n",
       "      <td>2</td>\n",
       "      <td>2</td>\n",
       "      <td>2</td>\n",
       "    </tr>\n",
       "    <tr>\n",
       "      <th>top</th>\n",
       "      <td>False</td>\n",
       "      <td>False</td>\n",
       "      <td>False</td>\n",
       "      <td>False</td>\n",
       "      <td>False</td>\n",
       "      <td>False</td>\n",
       "      <td>False</td>\n",
       "      <td>False</td>\n",
       "      <td>False</td>\n",
       "      <td>False</td>\n",
       "      <td>...</td>\n",
       "      <td>False</td>\n",
       "      <td>False</td>\n",
       "      <td>False</td>\n",
       "      <td>False</td>\n",
       "      <td>False</td>\n",
       "      <td>False</td>\n",
       "      <td>False</td>\n",
       "      <td>False</td>\n",
       "      <td>False</td>\n",
       "      <td>False</td>\n",
       "    </tr>\n",
       "    <tr>\n",
       "      <th>freq</th>\n",
       "      <td>14903</td>\n",
       "      <td>14643</td>\n",
       "      <td>14941</td>\n",
       "      <td>14934</td>\n",
       "      <td>14960</td>\n",
       "      <td>14959</td>\n",
       "      <td>14842</td>\n",
       "      <td>14946</td>\n",
       "      <td>14455</td>\n",
       "      <td>14637</td>\n",
       "      <td>...</td>\n",
       "      <td>14883</td>\n",
       "      <td>14912</td>\n",
       "      <td>14686</td>\n",
       "      <td>14309</td>\n",
       "      <td>14955</td>\n",
       "      <td>14604</td>\n",
       "      <td>14788</td>\n",
       "      <td>12600</td>\n",
       "      <td>13678</td>\n",
       "      <td>14903</td>\n",
       "    </tr>\n",
       "  </tbody>\n",
       "</table>\n",
       "<p>4 rows × 167 columns</p>\n",
       "</div>"
      ],
      "text/plain": [
       "       Instant food products UHT-milk abrasive cleaner artif. sweetener  \\\n",
       "count                  14963    14963            14963            14963   \n",
       "unique                     2        2                2                2   \n",
       "top                    False    False            False            False   \n",
       "freq                   14903    14643            14941            14934   \n",
       "\n",
       "       baby cosmetics   bags baking powder bathroom cleaner   beef berries  \\\n",
       "count           14963  14963         14963            14963  14963   14963   \n",
       "unique              2      2             2                2      2       2   \n",
       "top             False  False         False            False  False   False   \n",
       "freq            14960  14959         14842            14946  14455   14637   \n",
       "\n",
       "        ... turkey vinegar waffles whipped/sour cream whisky white bread  \\\n",
       "count   ...  14963   14963   14963              14963  14963       14963   \n",
       "unique  ...      2       2       2                  2      2           2   \n",
       "top     ...  False   False   False              False  False       False   \n",
       "freq    ...  14883   14912   14686              14309  14955       14604   \n",
       "\n",
       "       white wine whole milk yogurt zwieback  \n",
       "count       14963      14963  14963    14963  \n",
       "unique          2          2      2        2  \n",
       "top         False      False  False    False  \n",
       "freq        14788      12600  13678    14903  \n",
       "\n",
       "[4 rows x 167 columns]"
      ]
     },
     "execution_count": 7,
     "metadata": {},
     "output_type": "execute_result"
    }
   ],
   "source": [
    "# Creating a count of the individual items purchased\n",
    "pf = transactions.describe()\n",
    "\n",
    "# Confirming if False is the top(most frequent/common) for all 167 columns (False indicates item wasn't purchased)\n",
    "print(pf.loc['top'].unique())\n",
    "pf"
   ]
  },
  {
   "cell_type": "code",
   "execution_count": 8,
   "metadata": {},
   "outputs": [
    {
     "data": {
      "text/html": [
       "<div>\n",
       "<style scoped>\n",
       "    .dataframe tbody tr th:only-of-type {\n",
       "        vertical-align: middle;\n",
       "    }\n",
       "\n",
       "    .dataframe tbody tr th {\n",
       "        vertical-align: top;\n",
       "    }\n",
       "\n",
       "    .dataframe thead th {\n",
       "        text-align: right;\n",
       "    }\n",
       "</style>\n",
       "<table border=\"1\" class=\"dataframe\">\n",
       "  <thead>\n",
       "    <tr style=\"text-align: right;\">\n",
       "      <th></th>\n",
       "      <th>item</th>\n",
       "      <th>count</th>\n",
       "    </tr>\n",
       "  </thead>\n",
       "  <tbody>\n",
       "    <tr>\n",
       "      <th>164</th>\n",
       "      <td>whole milk</td>\n",
       "      <td>2363</td>\n",
       "    </tr>\n",
       "    <tr>\n",
       "      <th>102</th>\n",
       "      <td>other vegetables</td>\n",
       "      <td>1827</td>\n",
       "    </tr>\n",
       "    <tr>\n",
       "      <th>122</th>\n",
       "      <td>rolls/buns</td>\n",
       "      <td>1646</td>\n",
       "    </tr>\n",
       "    <tr>\n",
       "      <th>138</th>\n",
       "      <td>soda</td>\n",
       "      <td>1453</td>\n",
       "    </tr>\n",
       "    <tr>\n",
       "      <th>165</th>\n",
       "      <td>yogurt</td>\n",
       "      <td>1285</td>\n",
       "    </tr>\n",
       "    <tr>\n",
       "      <th>...</th>\n",
       "      <td>...</td>\n",
       "      <td>...</td>\n",
       "    </tr>\n",
       "    <tr>\n",
       "      <th>124</th>\n",
       "      <td>rubbing alcohol</td>\n",
       "      <td>5</td>\n",
       "    </tr>\n",
       "    <tr>\n",
       "      <th>5</th>\n",
       "      <td>bags</td>\n",
       "      <td>4</td>\n",
       "    </tr>\n",
       "    <tr>\n",
       "      <th>4</th>\n",
       "      <td>baby cosmetics</td>\n",
       "      <td>3</td>\n",
       "    </tr>\n",
       "    <tr>\n",
       "      <th>79</th>\n",
       "      <td>kitchen utensil</td>\n",
       "      <td>1</td>\n",
       "    </tr>\n",
       "    <tr>\n",
       "      <th>114</th>\n",
       "      <td>preservation products</td>\n",
       "      <td>1</td>\n",
       "    </tr>\n",
       "  </tbody>\n",
       "</table>\n",
       "<p>167 rows × 2 columns</p>\n",
       "</div>"
      ],
      "text/plain": [
       "                      item count\n",
       "164             whole milk  2363\n",
       "102       other vegetables  1827\n",
       "122             rolls/buns  1646\n",
       "138                   soda  1453\n",
       "165                 yogurt  1285\n",
       "..                     ...   ...\n",
       "124        rubbing alcohol     5\n",
       "5                     bags     4\n",
       "4           baby cosmetics     3\n",
       "79         kitchen utensil     1\n",
       "114  preservation products     1\n",
       "\n",
       "[167 rows x 2 columns]"
      ]
     },
     "execution_count": 8,
     "metadata": {},
     "output_type": "execute_result"
    }
   ],
   "source": [
    "# Count of the individual items is count (non-null entires) minus freq (count of most common value in that column) \n",
    "pf.loc['number_of_purchases'] = pf.loc['count'] - pf.loc['freq']\n",
    "a = pf.transpose()\n",
    "item = pd.DataFrame(a['number_of_purchases']).reset_index()\n",
    "item = item.sort_values('number_of_purchases', ascending=False) \n",
    "\n",
    "# Renaming the columns\n",
    "item.columns = ['item', 'count']\n",
    "item"
   ]
  },
  {
   "cell_type": "markdown",
   "metadata": {},
   "source": [
    "## 4. Visualizing the Top 50 Items as a Treemap"
   ]
  },
  {
   "cell_type": "code",
   "execution_count": 9,
   "metadata": {},
   "outputs": [
    {
     "data": {
      "image/png": "[encoded data removed]",
      "text/plain": [
       "<Figure size 3600x3600 with 1 Axes>"
      ]
     },
     "metadata": {},
     "output_type": "display_data"
    }
   ],
   "source": [
    "fig, ax = plt.subplots()\n",
    "\n",
    "# Setting the color scheme\n",
    "cmap = matplotlib.cm.coolwarm\n",
    "\n",
    "# Getting the upper and lower bounds for the color mapping\n",
    "mini = min(item['count'].head(50))\n",
    "maxi = max(item['count'].head(50))\n",
    "\n",
    "# Set out color mapping limits\n",
    "norm = matplotlib.colors.Normalize(vmin=mini, vmax=maxi)\n",
    "\n",
    "# Obtain the raw colors\n",
    "colors = [cmap(norm(value)) for value in item['count'].head(50)]\n",
    "\n",
    "# Create the TreeMap plot with Squarify\n",
    "squarify.plot(sizes=item['count'].head(50), label=item['item'].head(50), alpha=0.8, color=colors)\n",
    "plt.axis('off')\n",
    "plt.title('BASKET ITEMS', fontsize=32)\n",
    "ttl = ax.title\n",
    "ttl.set_position([.5,1.05])"
   ]
  },
  {
   "cell_type": "markdown",
   "metadata": {},
   "source": [
    "## 5. Using the Apriori Algorithm\n",
    "**Association rules analysis** is a technique to uncover how items are associated to each other. There are three common ways to measure association.</br>\n",
    "\n",
    " - **Measure 1: Support.** This says how popular an itemset is, as measured by the proportion of transactions in which an itemset appears. In the Table above, the support of {apple} is 4 out of 8, or 50%. Itemsets can also contain multiple items. For instance, the support of {apple, beer, rice} is 2 out of 8, or 25%.</br>\n",
    " - **Measure 2: Confidence.** This says how likely item Y is purchased when item X is purchased, expressed as {X -> Y}. This is measured by the proportion of transactions with item X, in which item Y also appears. In Table 1, the confidence of {apple -> beer} is 3 out of 4, or 75%.</br>\n",
    " - **Measure 3: Lift.** This says how likely item Y is purchased when item X is purchased, while controlling for how popular item Y is. In Table 1, the lift of {apple -> beer} is 1,which implies no association between items. A lift value greater than 1 means that item Y is likely to be bought if item X is bought, while a value less than 1 means that item Y is unlikely to be bought if item X is bought.</br>\n"
   ]
  },
  {
   "cell_type": "markdown",
   "metadata": {},
   "source": [
    "### Finding the frequent itemsets using the Apriori Module"
   ]
  },
  {
   "cell_type": "code",
   "execution_count": 10,
   "metadata": {},
   "outputs": [
    {
     "data": {
      "text/html": [
       "<div>\n",
       "<style scoped>\n",
       "    .dataframe tbody tr th:only-of-type {\n",
       "        vertical-align: middle;\n",
       "    }\n",
       "\n",
       "    .dataframe tbody tr th {\n",
       "        vertical-align: top;\n",
       "    }\n",
       "\n",
       "    .dataframe thead th {\n",
       "        text-align: right;\n",
       "    }\n",
       "</style>\n",
       "<table border=\"1\" class=\"dataframe\">\n",
       "  <thead>\n",
       "    <tr style=\"text-align: right;\">\n",
       "      <th></th>\n",
       "      <th>support</th>\n",
       "      <th>itemsets</th>\n",
       "      <th>length</th>\n",
       "    </tr>\n",
       "  </thead>\n",
       "  <tbody>\n",
       "    <tr>\n",
       "      <th>0</th>\n",
       "      <td>0.004010</td>\n",
       "      <td>(Instant food products)</td>\n",
       "      <td>1</td>\n",
       "    </tr>\n",
       "    <tr>\n",
       "      <th>1</th>\n",
       "      <td>0.021386</td>\n",
       "      <td>(UHT-milk)</td>\n",
       "      <td>1</td>\n",
       "    </tr>\n",
       "    <tr>\n",
       "      <th>2</th>\n",
       "      <td>0.001470</td>\n",
       "      <td>(abrasive cleaner)</td>\n",
       "      <td>1</td>\n",
       "    </tr>\n",
       "    <tr>\n",
       "      <th>3</th>\n",
       "      <td>0.001938</td>\n",
       "      <td>(artif. sweetener)</td>\n",
       "      <td>1</td>\n",
       "    </tr>\n",
       "    <tr>\n",
       "      <th>4</th>\n",
       "      <td>0.008087</td>\n",
       "      <td>(baking powder)</td>\n",
       "      <td>1</td>\n",
       "    </tr>\n",
       "    <tr>\n",
       "      <th>...</th>\n",
       "      <td>...</td>\n",
       "      <td>...</td>\n",
       "      <td>...</td>\n",
       "    </tr>\n",
       "    <tr>\n",
       "      <th>745</th>\n",
       "      <td>0.001136</td>\n",
       "      <td>(sausage, whole milk, rolls/buns)</td>\n",
       "      <td>3</td>\n",
       "    </tr>\n",
       "    <tr>\n",
       "      <th>746</th>\n",
       "      <td>0.001002</td>\n",
       "      <td>(soda, whole milk, rolls/buns)</td>\n",
       "      <td>3</td>\n",
       "    </tr>\n",
       "    <tr>\n",
       "      <th>747</th>\n",
       "      <td>0.001337</td>\n",
       "      <td>(whole milk, rolls/buns, yogurt)</td>\n",
       "      <td>3</td>\n",
       "    </tr>\n",
       "    <tr>\n",
       "      <th>748</th>\n",
       "      <td>0.001069</td>\n",
       "      <td>(soda, whole milk, sausage)</td>\n",
       "      <td>3</td>\n",
       "    </tr>\n",
       "    <tr>\n",
       "      <th>749</th>\n",
       "      <td>0.001470</td>\n",
       "      <td>(whole milk, sausage, yogurt)</td>\n",
       "      <td>3</td>\n",
       "    </tr>\n",
       "  </tbody>\n",
       "</table>\n",
       "<p>750 rows × 3 columns</p>\n",
       "</div>"
      ],
      "text/plain": [
       "      support                           itemsets  length\n",
       "0    0.004010            (Instant food products)       1\n",
       "1    0.021386                         (UHT-milk)       1\n",
       "2    0.001470                 (abrasive cleaner)       1\n",
       "3    0.001938                 (artif. sweetener)       1\n",
       "4    0.008087                    (baking powder)       1\n",
       "..        ...                                ...     ...\n",
       "745  0.001136  (sausage, whole milk, rolls/buns)       3\n",
       "746  0.001002     (soda, whole milk, rolls/buns)       3\n",
       "747  0.001337   (whole milk, rolls/buns, yogurt)       3\n",
       "748  0.001069        (soda, whole milk, sausage)       3\n",
       "749  0.001470      (whole milk, sausage, yogurt)       3\n",
       "\n",
       "[750 rows x 3 columns]"
      ]
     },
     "execution_count": 10,
     "metadata": {},
     "output_type": "execute_result"
    }
   ],
   "source": [
    "frequent_itemsets = apriori(transactions, min_support=0.001, use_colnames=True, max_len=5)\n",
    "frequent_itemsets['length'] = frequent_itemsets['itemsets'].apply(lambda x: len(x))             # Length refers to the number of items in itemset (length of an item set)\n",
    "frequent_itemsets"
   ]
  },
  {
   "cell_type": "markdown",
   "metadata": {},
   "source": [
    "The above table provides all the association rules for basket analysis"
   ]
  },
  {
   "cell_type": "code",
   "execution_count": 11,
   "metadata": {},
   "outputs": [],
   "source": [
    "b = association_rules(frequent_itemsets, metric=\"lift\", min_threshold=0.001)\n",
    "b['uni'] = np.nan\n",
    "b['ant'] = np.nan\n",
    "b['con'] = np.nan\n",
    "b['tot'] = 14963            # Total number of transactions"
   ]
  },
  {
   "cell_type": "markdown",
   "metadata": {},
   "source": [
    "## 6. Vizualising the Data"
   ]
  },
  {
   "cell_type": "code",
   "execution_count": 12,
   "metadata": {},
   "outputs": [
    {
     "data": {
      "text/html": [
       "<div>\n",
       "<style scoped>\n",
       "    .dataframe tbody tr th:only-of-type {\n",
       "        vertical-align: middle;\n",
       "    }\n",
       "\n",
       "    .dataframe tbody tr th {\n",
       "        vertical-align: top;\n",
       "    }\n",
       "\n",
       "    .dataframe thead th {\n",
       "        text-align: right;\n",
       "    }\n",
       "</style>\n",
       "<table border=\"1\" class=\"dataframe\">\n",
       "  <thead>\n",
       "    <tr style=\"text-align: right;\">\n",
       "      <th></th>\n",
       "      <th>antecedents</th>\n",
       "      <th>consequents</th>\n",
       "      <th>antecedent support</th>\n",
       "      <th>consequent support</th>\n",
       "      <th>support</th>\n",
       "      <th>confidence</th>\n",
       "      <th>lift</th>\n",
       "      <th>leverage</th>\n",
       "      <th>conviction</th>\n",
       "      <th>zhangs_metric</th>\n",
       "      <th>uni</th>\n",
       "      <th>ant</th>\n",
       "      <th>con</th>\n",
       "      <th>tot</th>\n",
       "    </tr>\n",
       "  </thead>\n",
       "  <tbody>\n",
       "    <tr>\n",
       "      <th>0</th>\n",
       "      <td>(bottled water)</td>\n",
       "      <td>(UHT-milk)</td>\n",
       "      <td>0.060683</td>\n",
       "      <td>0.021386</td>\n",
       "      <td>0.001069</td>\n",
       "      <td>0.017621</td>\n",
       "      <td>0.823954</td>\n",
       "      <td>-0.000228</td>\n",
       "      <td>0.996168</td>\n",
       "      <td>-0.185312</td>\n",
       "      <td>NaN</td>\n",
       "      <td>NaN</td>\n",
       "      <td>NaN</td>\n",
       "      <td>14963</td>\n",
       "    </tr>\n",
       "    <tr>\n",
       "      <th>1</th>\n",
       "      <td>(UHT-milk)</td>\n",
       "      <td>(bottled water)</td>\n",
       "      <td>0.021386</td>\n",
       "      <td>0.060683</td>\n",
       "      <td>0.001069</td>\n",
       "      <td>0.050000</td>\n",
       "      <td>0.823954</td>\n",
       "      <td>-0.000228</td>\n",
       "      <td>0.988755</td>\n",
       "      <td>-0.179204</td>\n",
       "      <td>NaN</td>\n",
       "      <td>NaN</td>\n",
       "      <td>NaN</td>\n",
       "      <td>14963</td>\n",
       "    </tr>\n",
       "    <tr>\n",
       "      <th>2</th>\n",
       "      <td>(other vegetables)</td>\n",
       "      <td>(UHT-milk)</td>\n",
       "      <td>0.122101</td>\n",
       "      <td>0.021386</td>\n",
       "      <td>0.002139</td>\n",
       "      <td>0.017515</td>\n",
       "      <td>0.818993</td>\n",
       "      <td>-0.000473</td>\n",
       "      <td>0.996060</td>\n",
       "      <td>-0.201119</td>\n",
       "      <td>NaN</td>\n",
       "      <td>NaN</td>\n",
       "      <td>NaN</td>\n",
       "      <td>14963</td>\n",
       "    </tr>\n",
       "    <tr>\n",
       "      <th>3</th>\n",
       "      <td>(UHT-milk)</td>\n",
       "      <td>(other vegetables)</td>\n",
       "      <td>0.021386</td>\n",
       "      <td>0.122101</td>\n",
       "      <td>0.002139</td>\n",
       "      <td>0.100000</td>\n",
       "      <td>0.818993</td>\n",
       "      <td>-0.000473</td>\n",
       "      <td>0.975443</td>\n",
       "      <td>-0.184234</td>\n",
       "      <td>NaN</td>\n",
       "      <td>NaN</td>\n",
       "      <td>NaN</td>\n",
       "      <td>14963</td>\n",
       "    </tr>\n",
       "    <tr>\n",
       "      <th>4</th>\n",
       "      <td>(rolls/buns)</td>\n",
       "      <td>(UHT-milk)</td>\n",
       "      <td>0.110005</td>\n",
       "      <td>0.021386</td>\n",
       "      <td>0.001804</td>\n",
       "      <td>0.016403</td>\n",
       "      <td>0.767013</td>\n",
       "      <td>-0.000548</td>\n",
       "      <td>0.994934</td>\n",
       "      <td>-0.254457</td>\n",
       "      <td>NaN</td>\n",
       "      <td>NaN</td>\n",
       "      <td>NaN</td>\n",
       "      <td>14963</td>\n",
       "    </tr>\n",
       "    <tr>\n",
       "      <th>...</th>\n",
       "      <td>...</td>\n",
       "      <td>...</td>\n",
       "      <td>...</td>\n",
       "      <td>...</td>\n",
       "      <td>...</td>\n",
       "      <td>...</td>\n",
       "      <td>...</td>\n",
       "      <td>...</td>\n",
       "      <td>...</td>\n",
       "      <td>...</td>\n",
       "      <td>...</td>\n",
       "      <td>...</td>\n",
       "      <td>...</td>\n",
       "      <td>...</td>\n",
       "    </tr>\n",
       "    <tr>\n",
       "      <th>1233</th>\n",
       "      <td>(whole milk, yogurt)</td>\n",
       "      <td>(sausage)</td>\n",
       "      <td>0.011161</td>\n",
       "      <td>0.060349</td>\n",
       "      <td>0.001470</td>\n",
       "      <td>0.131737</td>\n",
       "      <td>2.182917</td>\n",
       "      <td>0.000797</td>\n",
       "      <td>1.082219</td>\n",
       "      <td>0.548014</td>\n",
       "      <td>NaN</td>\n",
       "      <td>NaN</td>\n",
       "      <td>NaN</td>\n",
       "      <td>14963</td>\n",
       "    </tr>\n",
       "    <tr>\n",
       "      <th>1234</th>\n",
       "      <td>(sausage, yogurt)</td>\n",
       "      <td>(whole milk)</td>\n",
       "      <td>0.005748</td>\n",
       "      <td>0.157923</td>\n",
       "      <td>0.001470</td>\n",
       "      <td>0.255814</td>\n",
       "      <td>1.619866</td>\n",
       "      <td>0.000563</td>\n",
       "      <td>1.131541</td>\n",
       "      <td>0.384877</td>\n",
       "      <td>NaN</td>\n",
       "      <td>NaN</td>\n",
       "      <td>NaN</td>\n",
       "      <td>14963</td>\n",
       "    </tr>\n",
       "    <tr>\n",
       "      <th>1235</th>\n",
       "      <td>(whole milk)</td>\n",
       "      <td>(sausage, yogurt)</td>\n",
       "      <td>0.157923</td>\n",
       "      <td>0.005748</td>\n",
       "      <td>0.001470</td>\n",
       "      <td>0.009310</td>\n",
       "      <td>1.619866</td>\n",
       "      <td>0.000563</td>\n",
       "      <td>1.003596</td>\n",
       "      <td>0.454430</td>\n",
       "      <td>NaN</td>\n",
       "      <td>NaN</td>\n",
       "      <td>NaN</td>\n",
       "      <td>14963</td>\n",
       "    </tr>\n",
       "    <tr>\n",
       "      <th>1236</th>\n",
       "      <td>(sausage)</td>\n",
       "      <td>(whole milk, yogurt)</td>\n",
       "      <td>0.060349</td>\n",
       "      <td>0.011161</td>\n",
       "      <td>0.001470</td>\n",
       "      <td>0.024363</td>\n",
       "      <td>2.182917</td>\n",
       "      <td>0.000797</td>\n",
       "      <td>1.013532</td>\n",
       "      <td>0.576701</td>\n",
       "      <td>NaN</td>\n",
       "      <td>NaN</td>\n",
       "      <td>NaN</td>\n",
       "      <td>14963</td>\n",
       "    </tr>\n",
       "    <tr>\n",
       "      <th>1237</th>\n",
       "      <td>(yogurt)</td>\n",
       "      <td>(sausage, whole milk)</td>\n",
       "      <td>0.085879</td>\n",
       "      <td>0.008955</td>\n",
       "      <td>0.001470</td>\n",
       "      <td>0.017121</td>\n",
       "      <td>1.911760</td>\n",
       "      <td>0.000701</td>\n",
       "      <td>1.008307</td>\n",
       "      <td>0.521727</td>\n",
       "      <td>NaN</td>\n",
       "      <td>NaN</td>\n",
       "      <td>NaN</td>\n",
       "      <td>14963</td>\n",
       "    </tr>\n",
       "  </tbody>\n",
       "</table>\n",
       "<p>1238 rows × 14 columns</p>\n",
       "</div>"
      ],
      "text/plain": [
       "               antecedents            consequents  antecedent support  \\\n",
       "0          (bottled water)             (UHT-milk)            0.060683   \n",
       "1               (UHT-milk)        (bottled water)            0.021386   \n",
       "2       (other vegetables)             (UHT-milk)            0.122101   \n",
       "3               (UHT-milk)     (other vegetables)            0.021386   \n",
       "4             (rolls/buns)             (UHT-milk)            0.110005   \n",
       "...                    ...                    ...                 ...   \n",
       "1233  (whole milk, yogurt)              (sausage)            0.011161   \n",
       "1234     (sausage, yogurt)           (whole milk)            0.005748   \n",
       "1235          (whole milk)      (sausage, yogurt)            0.157923   \n",
       "1236             (sausage)   (whole milk, yogurt)            0.060349   \n",
       "1237              (yogurt)  (sausage, whole milk)            0.085879   \n",
       "\n",
       "      consequent support   support  confidence      lift  leverage  \\\n",
       "0               0.021386  0.001069    0.017621  0.823954 -0.000228   \n",
       "1               0.060683  0.001069    0.050000  0.823954 -0.000228   \n",
       "2               0.021386  0.002139    0.017515  0.818993 -0.000473   \n",
       "3               0.122101  0.002139    0.100000  0.818993 -0.000473   \n",
       "4               0.021386  0.001804    0.016403  0.767013 -0.000548   \n",
       "...                  ...       ...         ...       ...       ...   \n",
       "1233            0.060349  0.001470    0.131737  2.182917  0.000797   \n",
       "1234            0.157923  0.001470    0.255814  1.619866  0.000563   \n",
       "1235            0.005748  0.001470    0.009310  1.619866  0.000563   \n",
       "1236            0.011161  0.001470    0.024363  2.182917  0.000797   \n",
       "1237            0.008955  0.001470    0.017121  1.911760  0.000701   \n",
       "\n",
       "      conviction  zhangs_metric  uni  ant  con    tot  \n",
       "0       0.996168      -0.185312  NaN  NaN  NaN  14963  \n",
       "1       0.988755      -0.179204  NaN  NaN  NaN  14963  \n",
       "2       0.996060      -0.201119  NaN  NaN  NaN  14963  \n",
       "3       0.975443      -0.184234  NaN  NaN  NaN  14963  \n",
       "4       0.994934      -0.254457  NaN  NaN  NaN  14963  \n",
       "...          ...            ...  ...  ...  ...    ...  \n",
       "1233    1.082219       0.548014  NaN  NaN  NaN  14963  \n",
       "1234    1.131541       0.384877  NaN  NaN  NaN  14963  \n",
       "1235    1.003596       0.454430  NaN  NaN  NaN  14963  \n",
       "1236    1.013532       0.576701  NaN  NaN  NaN  14963  \n",
       "1237    1.008307       0.521727  NaN  NaN  NaN  14963  \n",
       "\n",
       "[1238 rows x 14 columns]"
      ]
     },
     "execution_count": 12,
     "metadata": {},
     "output_type": "execute_result"
    }
   ],
   "source": [
    "transactions = basket.groupby(['Member_number', 'Date'])['itemDescription'].apply(list).tolist()\n",
    "\n",
    "def trans():\n",
    "    for t in transactions:\n",
    "        yield t\n",
    "        \n",
    "        \n",
    "def ant(x):\n",
    "    cnt=0\n",
    "    for t in trans():\n",
    "        t= set(t)\n",
    "        if x.intersection(x) == x:\n",
    "            cnt = cnt+1\n",
    "    return cnt\n",
    "\n",
    "bb = b.values.tolist()\n",
    "b"
   ]
  },
  {
   "cell_type": "code",
   "execution_count": 13,
   "metadata": {},
   "outputs": [],
   "source": [
    "rules_dict = []\n",
    "for bbb in bb:\n",
    "    bbb[10] = ant(bbb[0])\n",
    "    bbb[11] = ant(bbb[1])\n",
    "    bbb[9] = ant(bbb[0].union(bbb[1]))\n",
    "    diction = {\n",
    "        'lhs': tuple(bbb[0]), \n",
    "        'rhs': tuple(bbb[1]),\n",
    "        'count_full': bbb[9],\n",
    "        'count_lhs': bbb[10],\n",
    "        'count_rhs': bbb[11],\n",
    "        'num_transactions': bbb[12]\n",
    "    }\n",
    "    rules_dict.append(diction)"
   ]
  },
  {
   "cell_type": "code",
   "execution_count": 14,
   "metadata": {},
   "outputs": [],
   "source": [
    "rules = []\n",
    "for rd in rules_dict:\n",
    "    rules.append(generate_rule_from_dict(rd))"
   ]
  },
  {
   "cell_type": "code",
   "execution_count": 15,
   "metadata": {},
   "outputs": [
    {
     "data": {
      "text/plain": [
       "{soda} -> {UHT-milk}"
      ]
     },
     "execution_count": 15,
     "metadata": {},
     "output_type": "execute_result"
    }
   ],
   "source": [
    "rules[10]"
   ]
  },
  {
   "cell_type": "code",
   "execution_count": 28,
   "metadata": {},
   "outputs": [
    {
     "data": {
      "application/vnd.plotly.v1+json": {
       "config": {
        "plotlyServerURL": "https://plot.ly"
       },
       "data": [
        {
         "dimensions": [
          {
           "label": "Antacedent 1",
           "values": [
            "bottled water",
            "UHT-milk",
            "other vegetables",
            "UHT-milk",
            "rolls/buns",
            "UHT-milk",
            "root vegetables",
            "UHT-milk",
            "sausage",
            "UHT-milk",
            "soda",
            "UHT-milk",
            "tropical fruit",
            "UHT-milk",
            "whole milk",
            "UHT-milk",
            "UHT-milk",
            "yogurt",
            "bottled beer",
            "beef",
            "beef",
            "bottled water",
            "beef",
            "brown bread",
            "beef",
            "butter",
            "beef",
            "canned beer",
            "beef",
            "citrus fruit",
            "curd",
            "beef",
            "domestic eggs",
            "beef",
            "frankfurter",
            "beef",
            "beef",
            "frozen vegetables",
            "beef",
            "fruit/vegetable juice",
            "margarine",
            "beef",
            "beef",
            "newspapers",
            "beef",
            "other vegetables",
            "beef",
            "pastry",
            "beef",
            "rolls/buns",
            "beef",
            "root vegetables",
            "beef",
            "shopping bags",
            "soda",
            "beef",
            "beef",
            "tropical fruit",
            "beef",
            "whipped/sour cream",
            "beef",
            "whole milk",
            "beef",
            "yogurt",
            "berries",
            "bottled water",
            "berries",
            "other vegetables",
            "berries",
            "pastry",
            "berries",
            "pip fruit",
            "berries",
            "rolls/buns",
            "berries",
            "root vegetables",
            "soda",
            "berries",
            "berries",
            "tropical fruit",
            "berries",
            "whole milk",
            "berries",
            "yogurt",
            "bottled water",
            "beverages",
            "other vegetables",
            "beverages",
            "rolls/buns",
            "beverages",
            "sausage",
            "beverages",
            "soda",
            "beverages",
            "whole milk",
            "beverages",
            "bottled beer",
            "bottled water",
            "bottled beer",
            "brown bread",
            "bottled beer",
            "butter",
            "bottled beer",
            "canned beer",
            "bottled beer",
            "chicken",
            "bottled beer",
            "chocolate",
            "bottled beer",
            "citrus fruit",
            "curd",
            "bottled beer",
            "domestic eggs",
            "bottled beer",
            "bottled beer",
            "frankfurter",
            "bottled beer",
            "frozen vegetables",
            "bottled beer",
            "fruit/vegetable juice",
            "bottled beer",
            "hamburger meat",
            "margarine",
            "bottled beer",
            "bottled beer",
            "newspapers",
            "bottled beer",
            "other vegetables",
            "bottled beer",
            "pastry",
            "bottled beer",
            "pip fruit",
            "bottled beer",
            "pork",
            "bottled beer",
            "rolls/buns",
            "bottled beer",
            "root vegetables",
            "bottled beer",
            "sausage",
            "bottled beer",
            "shopping bags",
            "soda",
            "bottled beer",
            "bottled beer",
            "tropical fruit",
            "bottled beer",
            "whipped/sour cream",
            "bottled beer",
            "whole milk",
            "bottled beer",
            "yogurt",
            "brown bread",
            "bottled water",
            "butter",
            "bottled water",
            "canned beer",
            "bottled water",
            "chicken",
            "bottled water",
            "chocolate",
            "bottled water",
            "citrus fruit",
            "bottled water",
            "coffee",
            "bottled water",
            "curd",
            "bottled water",
            "dessert",
            "bottled water",
            "domestic eggs",
            "bottled water",
            "frankfurter",
            "bottled water",
            "frozen vegetables",
            "bottled water",
            "bottled water",
            "fruit/vegetable juice",
            "margarine",
            "bottled water",
            "newspapers",
            "bottled water",
            "onions",
            "bottled water",
            "bottled water",
            "other vegetables",
            "pastry",
            "bottled water",
            "pip fruit",
            "bottled water",
            "pork",
            "bottled water",
            "bottled water",
            "rolls/buns",
            "bottled water",
            "root vegetables",
            "bottled water",
            "sausage",
            "shopping bags",
            "bottled water",
            "soda",
            "bottled water",
            "sugar",
            "bottled water",
            "tropical fruit",
            "bottled water",
            "bottled water",
            "whipped/sour cream",
            "white bread",
            "bottled water",
            "bottled water",
            "whole milk",
            "bottled water",
            "yogurt",
            "brown bread",
            "butter",
            "brown bread",
            "canned beer",
            "brown bread",
            "citrus fruit",
            "curd",
            "brown bread",
            "domestic eggs",
            "brown bread",
            "frankfurter",
            "brown bread",
            "brown bread",
            "other vegetables",
            "brown bread",
            "pastry",
            "brown bread",
            "pip fruit",
            "brown bread",
            "pork",
            "brown bread",
            "rolls/buns",
            "brown bread",
            "root vegetables",
            "brown bread",
            "sausage",
            "brown bread",
            "shopping bags",
            "soda",
            "brown bread",
            "brown bread",
            "tropical fruit",
            "brown bread",
            "whipped/sour cream",
            "white bread",
            "brown bread",
            "brown bread",
            "whole milk",
            "brown bread",
            "yogurt",
            "canned beer",
            "butter",
            "butter",
            "citrus fruit",
            "frankfurter",
            "butter",
            "butter",
            "fruit/vegetable juice",
            "margarine",
            "butter",
            "newspapers",
            "butter",
            "butter",
            "other vegetables",
            "pastry",
            "butter",
            "butter",
            "pip fruit",
            "butter",
            "rolls/buns",
            "butter",
            "root vegetables",
            "butter",
            "sausage",
            "shopping bags",
            "butter",
            "soda",
            "butter",
            "tropical fruit",
            "butter",
            "butter",
            "whipped/sour cream",
            "butter",
            "whole milk",
            "butter",
            "yogurt",
            "other vegetables",
            "butter milk",
            "rolls/buns",
            "butter milk",
            "root vegetables",
            "butter milk",
            "shopping bags",
            "butter milk",
            "soda",
            "butter milk",
            "tropical fruit",
            "butter milk",
            "whole milk",
            "butter milk",
            "butter milk",
            "yogurt",
            "candy",
            "citrus fruit",
            "candy",
            "other vegetables",
            "candy",
            "rolls/buns",
            "soda",
            "candy",
            "candy",
            "whole milk",
            "candy",
            "yogurt",
            "chicken",
            "canned beer",
            "chocolate",
            "canned beer",
            "canned beer",
            "citrus fruit",
            "canned beer",
            "coffee",
            "curd",
            "canned beer",
            "domestic eggs",
            "canned beer",
            "frankfurter",
            "canned beer",
            "canned beer",
            "frozen vegetables",
            "canned beer",
            "fruit/vegetable juice",
            "margarine",
            "canned beer",
            "newspapers",
            "canned beer",
            "canned beer",
            "other vegetables",
            "pastry",
            "canned beer",
            "canned beer",
            "pip fruit",
            "canned beer",
            "pork",
            "canned beer",
            "rolls/buns",
            "canned beer",
            "root vegetables",
            "salty snack",
            "canned beer",
            "canned beer",
            "sausage",
            "shopping bags",
            "canned beer",
            "soda",
            "canned beer",
            "tropical fruit",
            "canned beer",
            "canned beer",
            "whipped/sour cream",
            "white bread",
            "canned beer",
            "canned beer",
            "whole milk",
            "canned beer",
            "yogurt",
            "cat food",
            "rolls/buns",
            "cat food",
            "tropical fruit",
            "cat food",
            "whole milk",
            "other vegetables",
            "chewing gum",
            "soda",
            "chewing gum",
            "whole milk",
            "chewing gum",
            "chewing gum",
            "yogurt",
            "chicken",
            "citrus fruit",
            "curd",
            "chicken",
            "domestic eggs",
            "chicken",
            "margarine",
            "chicken",
            "chicken",
            "other vegetables",
            "pastry",
            "chicken",
            "chicken",
            "pip fruit",
            "chicken",
            "rolls/buns",
            "chicken",
            "root vegetables",
            "chicken",
            "sausage",
            "shopping bags",
            "chicken",
            "soda",
            "chicken",
            "tropical fruit",
            "chicken",
            "chicken",
            "whipped/sour cream",
            "chicken",
            "whole milk",
            "chicken",
            "yogurt",
            "chocolate",
            "citrus fruit",
            "chocolate",
            "other vegetables",
            "chocolate",
            "pip fruit",
            "chocolate",
            "rolls/buns",
            "chocolate",
            "root vegetables",
            "chocolate",
            "sausage",
            "soda",
            "chocolate",
            "chocolate",
            "tropical fruit",
            "chocolate",
            "whole milk",
            "chocolate",
            "yogurt",
            "citrus fruit",
            "coffee",
            "cream cheese ",
            "citrus fruit",
            "curd",
            "citrus fruit",
            "domestic eggs",
            "citrus fruit",
            "frankfurter",
            "citrus fruit",
            "frozen vegetables",
            "citrus fruit",
            "citrus fruit",
            "fruit/vegetable juice",
            "margarine",
            "citrus fruit",
            "napkins",
            "citrus fruit",
            "newspapers",
            "citrus fruit",
            "citrus fruit",
            "other vegetables",
            "pastry",
            "citrus fruit",
            "citrus fruit",
            "pip fruit",
            "pork",
            "citrus fruit",
            "citrus fruit",
            "rolls/buns",
            "citrus fruit",
            "root vegetables",
            "citrus fruit",
            "sausage",
            "shopping bags",
            "citrus fruit",
            "soda",
            "citrus fruit",
            "citrus fruit",
            "specialty chocolate",
            "tropical fruit",
            "citrus fruit",
            "citrus fruit",
            "whipped/sour cream",
            "white bread",
            "citrus fruit",
            "citrus fruit",
            "whole milk",
            "citrus fruit",
            "yogurt",
            "domestic eggs",
            "coffee",
            "frankfurter",
            "coffee",
            "coffee",
            "other vegetables",
            "pastry",
            "coffee",
            "pip fruit",
            "coffee",
            "coffee",
            "rolls/buns",
            "coffee",
            "root vegetables",
            "coffee",
            "sausage",
            "shopping bags",
            "coffee",
            "soda",
            "coffee",
            "tropical fruit",
            "coffee",
            "coffee",
            "whole milk",
            "coffee",
            "yogurt",
            "frankfurter",
            "cream cheese ",
            "cream cheese ",
            "other vegetables",
            "cream cheese ",
            "rolls/buns",
            "cream cheese ",
            "root vegetables",
            "cream cheese ",
            "sausage",
            "shopping bags",
            "cream cheese ",
            "soda",
            "cream cheese ",
            "cream cheese ",
            "tropical fruit",
            "cream cheese ",
            "whole milk",
            "cream cheese ",
            "yogurt",
            "curd",
            "dessert",
            "curd",
            "frankfurter",
            "margarine",
            "curd",
            "curd",
            "other vegetables",
            "curd",
            "pastry",
            "curd",
            "pip fruit",
            "curd",
            "pork",
            "curd",
            "rolls/buns",
            "curd",
            "root vegetables",
            "curd",
            "sausage",
            "curd",
            "shopping bags",
            "soda",
            "curd",
            "curd",
            "tropical fruit",
            "curd",
            "whipped/sour cream",
            "curd",
            "whole milk",
            "curd",
            "yogurt",
            "dessert",
            "other vegetables",
            "dessert",
            "rolls/buns",
            "dessert",
            "root vegetables",
            "dessert",
            "sausage",
            "dessert",
            "shopping bags",
            "soda",
            "dessert",
            "dessert",
            "tropical fruit",
            "dessert",
            "whole milk",
            "dessert",
            "yogurt",
            "detergent",
            "rolls/buns",
            "detergent",
            "whole milk",
            "detergent",
            "yogurt",
            "domestic eggs",
            "frankfurter",
            "domestic eggs",
            "fruit/vegetable juice",
            "domestic eggs",
            "newspapers",
            "domestic eggs",
            "other vegetables",
            "domestic eggs",
            "pastry",
            "domestic eggs",
            "pork",
            "domestic eggs",
            "rolls/buns",
            "domestic eggs",
            "root vegetables",
            "domestic eggs",
            "sausage",
            "domestic eggs",
            "shopping bags",
            "soda",
            "domestic eggs",
            "domestic eggs",
            "tropical fruit",
            "domestic eggs",
            "white bread",
            "domestic eggs",
            "whole milk",
            "domestic eggs",
            "yogurt",
            "flour",
            "tropical fruit",
            "flour",
            "whole milk",
            "frankfurter",
            "frozen vegetables",
            "frankfurter",
            "fruit/vegetable juice",
            "margarine",
            "frankfurter",
            "frankfurter",
            "newspapers",
            "frankfurter",
            "other vegetables",
            "frankfurter",
            "pastry",
            "frankfurter",
            "pip fruit",
            "frankfurter",
            "rolls/buns",
            "frankfurter",
            "root vegetables",
            "frankfurter",
            "sausage",
            "frankfurter",
            "shopping bags",
            "soda",
            "frankfurter",
            "frankfurter",
            "tropical fruit",
            "frankfurter",
            "whipped/sour cream",
            "frankfurter",
            "whole milk",
            "frankfurter",
            "yogurt",
            "frozen fish",
            "whole milk",
            "frozen meals",
            "other vegetables",
            "frozen meals",
            "rolls/buns",
            "frozen meals",
            "sausage",
            "soda",
            "frozen meals",
            "frozen meals",
            "whole milk",
            "frozen meals",
            "yogurt",
            "frozen vegetables",
            "other vegetables",
            "frozen vegetables",
            "pip fruit",
            "frozen vegetables",
            "rolls/buns",
            "frozen vegetables",
            "root vegetables",
            "frozen vegetables",
            "sausage",
            "soda",
            "frozen vegetables",
            "tropical fruit",
            "frozen vegetables",
            "frozen vegetables",
            "whole milk",
            "frozen vegetables",
            "yogurt",
            "margarine",
            "fruit/vegetable juice",
            "other vegetables",
            "fruit/vegetable juice",
            "pastry",
            "fruit/vegetable juice",
            "pip fruit",
            "fruit/vegetable juice",
            "rolls/buns",
            "fruit/vegetable juice",
            "root vegetables",
            "fruit/vegetable juice",
            "sausage",
            "fruit/vegetable juice",
            "soda",
            "fruit/vegetable juice",
            "tropical fruit",
            "fruit/vegetable juice",
            "whole milk",
            "fruit/vegetable juice",
            "yogurt",
            "fruit/vegetable juice",
            "grapes",
            "other vegetables",
            "grapes",
            "rolls/buns",
            "grapes",
            "root vegetables",
            "grapes",
            "sausage",
            "soda",
            "grapes",
            "grapes",
            "whole milk",
            "ham",
            "other vegetables",
            "ham",
            "rolls/buns",
            "soda",
            "ham",
            "ham",
            "tropical fruit",
            "ham",
            "whole milk",
            "ham",
            "yogurt",
            "hamburger meat",
            "other vegetables",
            "hamburger meat",
            "pastry",
            "hamburger meat",
            "rolls/buns",
            "hamburger meat",
            "root vegetables",
            "soda",
            "hamburger meat",
            "hamburger meat",
            "tropical fruit",
            "hamburger meat",
            "whole milk",
            "hamburger meat",
            "yogurt",
            "hard cheese",
            "other vegetables",
            "hard cheese",
            "pip fruit",
            "hard cheese",
            "rolls/buns",
            "hard cheese",
            "root vegetables",
            "hard cheese",
            "whole milk",
            "hard cheese",
            "yogurt",
            "herbs",
            "whole milk",
            "herbs",
            "yogurt",
            "other vegetables",
            "hygiene articles",
            "rolls/buns",
            "hygiene articles",
            "root vegetables",
            "hygiene articles",
            "soda",
            "hygiene articles",
            "whole milk",
            "hygiene articles",
            "ice cream",
            "other vegetables",
            "ice cream",
            "rolls/buns",
            "soda",
            "ice cream",
            "ice cream",
            "whole milk",
            "long life bakery product",
            "other vegetables",
            "long life bakery product",
            "rolls/buns",
            "long life bakery product",
            "sausage",
            "soda",
            "long life bakery product",
            "tropical fruit",
            "long life bakery product",
            "long life bakery product",
            "whole milk",
            "long life bakery product",
            "yogurt",
            "margarine",
            "other vegetables",
            "margarine",
            "pastry",
            "margarine",
            "pip fruit",
            "margarine",
            "pork",
            "margarine",
            "rolls/buns",
            "margarine",
            "root vegetables",
            "margarine",
            "sausage",
            "margarine",
            "shopping bags",
            "soda",
            "margarine",
            "margarine",
            "tropical fruit",
            "margarine",
            "whipped/sour cream",
            "margarine",
            "whole milk",
            "margarine",
            "yogurt",
            "meat",
            "other vegetables",
            "meat",
            "rolls/buns",
            "meat",
            "root vegetables",
            "soda",
            "meat",
            "meat",
            "whole milk",
            "misc. beverages",
            "other vegetables",
            "misc. beverages",
            "rolls/buns",
            "misc. beverages",
            "root vegetables",
            "misc. beverages",
            "sausage",
            "misc. beverages",
            "whole milk",
            "misc. beverages",
            "yogurt",
            "napkins",
            "other vegetables",
            "napkins",
            "pastry",
            "napkins",
            "rolls/buns",
            "napkins",
            "root vegetables",
            "soda",
            "napkins",
            "napkins",
            "tropical fruit",
            "napkins",
            "whole milk",
            "napkins",
            "yogurt",
            "newspapers",
            "other vegetables",
            "pastry",
            "newspapers",
            "newspapers",
            "pip fruit",
            "newspapers",
            "rolls/buns",
            "newspapers",
            "root vegetables",
            "newspapers",
            "sausage",
            "shopping bags",
            "newspapers",
            "soda",
            "newspapers",
            "newspapers",
            "tropical fruit",
            "newspapers",
            "whipped/sour cream",
            "newspapers",
            "whole milk",
            "newspapers",
            "yogurt",
            "oil",
            "other vegetables",
            "oil",
            "rolls/buns",
            "soda",
            "oil",
            "oil",
            "whole milk",
            "oil",
            "yogurt",
            "onions",
            "other vegetables",
            "onions",
            "rolls/buns",
            "onions",
            "root vegetables",
            "soda",
            "onions",
            "onions",
            "tropical fruit",
            "onions",
            "whipped/sour cream",
            "onions",
            "whole milk",
            "onions",
            "yogurt",
            "pastry",
            "other vegetables",
            "pip fruit",
            "other vegetables",
            "pork",
            "other vegetables",
            "pot plants",
            "other vegetables",
            "red/blush wine",
            "other vegetables",
            "other vegetables",
            "rolls/buns",
            "other vegetables",
            "root vegetables",
            "salty snack",
            "other vegetables",
            "other vegetables",
            "sausage",
            "other vegetables",
            "semi-finished bread",
            "shopping bags",
            "other vegetables",
            "sliced cheese",
            "other vegetables",
            "soda",
            "other vegetables",
            "soft cheese",
            "other vegetables",
            "specialty bar",
            "other vegetables",
            "other vegetables",
            "specialty chocolate",
            "sugar",
            "other vegetables",
            "tropical fruit",
            "other vegetables",
            "other vegetables",
            "waffles",
            "other vegetables",
            "whipped/sour cream",
            "white bread",
            "other vegetables",
            "other vegetables",
            "whole milk",
            "other vegetables",
            "yogurt",
            "packaged fruit/vegetables",
            "rolls/buns",
            "pasta",
            "whole milk",
            "pastry",
            "pip fruit",
            "pastry",
            "pork",
            "pastry",
            "rolls/buns",
            "pastry",
            "root vegetables",
            "pastry",
            "sausage",
            "pastry",
            "shopping bags",
            "soda",
            "pastry",
            "pastry",
            "tropical fruit",
            "pastry",
            "whipped/sour cream",
            "pastry",
            "whole milk",
            "pastry",
            "yogurt",
            "pickled vegetables",
            "whole milk",
            "pork",
            "pip fruit",
            "pip fruit",
            "rolls/buns",
            "pip fruit",
            "root vegetables",
            "pip fruit",
            "sausage",
            "shopping bags",
            "pip fruit",
            "soda",
            "pip fruit",
            "tropical fruit",
            "pip fruit",
            "pip fruit",
            "whipped/sour cream",
            "pip fruit",
            "whole milk",
            "pip fruit",
            "yogurt",
            "pork",
            "rolls/buns",
            "pork",
            "root vegetables",
            "pork",
            "sausage",
            "shopping bags",
            "pork",
            "soda",
            "pork",
            "tropical fruit",
            "pork",
            "pork",
            "whole milk",
            "pork",
            "yogurt",
            "pot plants",
            "whole milk",
            "processed cheese",
            "rolls/buns",
            "processed cheese",
            "root vegetables",
            "processed cheese",
            "whole milk",
            "red/blush wine",
            "rolls/buns",
            "root vegetables",
            "rolls/buns",
            "salty snack",
            "rolls/buns",
            "sausage",
            "rolls/buns",
            "rolls/buns",
            "seasonal products",
            "shopping bags",
            "rolls/buns",
            "soda",
            "rolls/buns",
            "soft cheese",
            "rolls/buns",
            "specialty bar",
            "rolls/buns",
            "rolls/buns",
            "specialty chocolate",
            "tropical fruit",
            "rolls/buns",
            "rolls/buns",
            "waffles",
            "rolls/buns",
            "whipped/sour cream",
            "white bread",
            "rolls/buns",
            "whole milk",
            "rolls/buns",
            "rolls/buns",
            "yogurt",
            "salty snack",
            "root vegetables",
            "root vegetables",
            "sausage",
            "shopping bags",
            "root vegetables",
            "sliced cheese",
            "root vegetables",
            "soda",
            "root vegetables",
            "tropical fruit",
            "root vegetables",
            "root vegetables",
            "waffles",
            "root vegetables",
            "whipped/sour cream",
            "white bread",
            "root vegetables",
            "whole milk",
            "root vegetables",
            "root vegetables",
            "yogurt",
            "salty snack",
            "sausage",
            "soda",
            "salty snack",
            "salty snack",
            "tropical fruit",
            "salty snack",
            "whole milk",
            "salty snack",
            "yogurt",
            "shopping bags",
            "sausage",
            "sliced cheese",
            "sausage",
            "soda",
            "sausage",
            "tropical fruit",
            "sausage",
            "sausage",
            "whipped/sour cream",
            "white bread",
            "sausage",
            "whole milk",
            "sausage",
            "sausage",
            "yogurt",
            "whole milk",
            "semi-finished bread",
            "soda",
            "shopping bags",
            "shopping bags",
            "tropical fruit",
            "shopping bags",
            "whipped/sour cream",
            "shopping bags",
            "whole milk",
            "shopping bags",
            "yogurt",
            "soda",
            "sliced cheese",
            "sliced cheese",
            "whole milk",
            "soda",
            "specialty bar",
            "soda",
            "specialty chocolate",
            "soda",
            "sugar",
            "soda",
            "tropical fruit",
            "soda",
            "whipped/sour cream",
            "soda",
            "white bread",
            "soda",
            "whole milk",
            "soda",
            "yogurt",
            "soft cheese",
            "whole milk",
            "soft cheese",
            "yogurt",
            "specialty bar",
            "whole milk",
            "specialty bar",
            "yogurt",
            "tropical fruit",
            "specialty chocolate",
            "whole milk",
            "specialty chocolate",
            "tropical fruit",
            "sugar",
            "sugar",
            "whole milk",
            "tropical fruit",
            "waffles",
            "tropical fruit",
            "whipped/sour cream",
            "white bread",
            "tropical fruit",
            "tropical fruit",
            "whole milk",
            "tropical fruit",
            "yogurt",
            "whole milk",
            "waffles",
            "waffles",
            "yogurt",
            "white bread",
            "whipped/sour cream",
            "whole milk",
            "whipped/sour cream",
            "yogurt",
            "whipped/sour cream",
            "white bread",
            "whole milk",
            "white bread",
            "yogurt",
            "white wine",
            "whole milk",
            "whole milk",
            "yogurt"
           ]
          },
          {
           "label": "Consequent",
           "values": [
            "UHT-milk",
            "bottled water",
            "UHT-milk",
            "other vegetables",
            "UHT-milk",
            "rolls/buns",
            "UHT-milk",
            "root vegetables",
            "UHT-milk",
            "sausage",
            "UHT-milk",
            "soda",
            "UHT-milk",
            "tropical fruit",
            "UHT-milk",
            "whole milk",
            "yogurt",
            "UHT-milk",
            "beef",
            "bottled beer",
            "bottled water",
            "beef",
            "brown bread",
            "beef",
            "butter",
            "beef",
            "canned beer",
            "beef",
            "citrus fruit",
            "beef",
            "beef",
            "curd",
            "beef",
            "domestic eggs",
            "beef",
            "frankfurter",
            "frozen vegetables",
            "beef",
            "fruit/vegetable juice",
            "beef",
            "beef",
            "margarine",
            "newspapers",
            "beef",
            "other vegetables",
            "beef",
            "pastry",
            "beef",
            "rolls/buns",
            "beef",
            "root vegetables",
            "beef",
            "shopping bags",
            "beef",
            "beef",
            "soda",
            "tropical fruit",
            "beef",
            "whipped/sour cream",
            "beef",
            "whole milk",
            "beef",
            "yogurt",
            "beef",
            "bottled water",
            "berries",
            "other vegetables",
            "berries",
            "pastry",
            "berries",
            "pip fruit",
            "berries",
            "rolls/buns",
            "berries",
            "root vegetables",
            "berries",
            "berries",
            "soda",
            "tropical fruit",
            "berries",
            "whole milk",
            "berries",
            "yogurt",
            "berries",
            "beverages",
            "bottled water",
            "beverages",
            "other vegetables",
            "beverages",
            "rolls/buns",
            "beverages",
            "sausage",
            "beverages",
            "soda",
            "beverages",
            "whole milk",
            "bottled water",
            "bottled beer",
            "brown bread",
            "bottled beer",
            "butter",
            "bottled beer",
            "canned beer",
            "bottled beer",
            "chicken",
            "bottled beer",
            "chocolate",
            "bottled beer",
            "citrus fruit",
            "bottled beer",
            "bottled beer",
            "curd",
            "bottled beer",
            "domestic eggs",
            "frankfurter",
            "bottled beer",
            "frozen vegetables",
            "bottled beer",
            "fruit/vegetable juice",
            "bottled beer",
            "hamburger meat",
            "bottled beer",
            "bottled beer",
            "margarine",
            "newspapers",
            "bottled beer",
            "other vegetables",
            "bottled beer",
            "pastry",
            "bottled beer",
            "pip fruit",
            "bottled beer",
            "pork",
            "bottled beer",
            "rolls/buns",
            "bottled beer",
            "root vegetables",
            "bottled beer",
            "sausage",
            "bottled beer",
            "shopping bags",
            "bottled beer",
            "bottled beer",
            "soda",
            "tropical fruit",
            "bottled beer",
            "whipped/sour cream",
            "bottled beer",
            "whole milk",
            "bottled beer",
            "yogurt",
            "bottled beer",
            "bottled water",
            "brown bread",
            "bottled water",
            "butter",
            "bottled water",
            "canned beer",
            "bottled water",
            "chicken",
            "bottled water",
            "chocolate",
            "bottled water",
            "citrus fruit",
            "bottled water",
            "coffee",
            "bottled water",
            "curd",
            "bottled water",
            "dessert",
            "bottled water",
            "domestic eggs",
            "bottled water",
            "frankfurter",
            "bottled water",
            "frozen vegetables",
            "fruit/vegetable juice",
            "bottled water",
            "bottled water",
            "margarine",
            "bottled water",
            "newspapers",
            "bottled water",
            "onions",
            "other vegetables",
            "bottled water",
            "bottled water",
            "pastry",
            "bottled water",
            "pip fruit",
            "bottled water",
            "pork",
            "rolls/buns",
            "bottled water",
            "root vegetables",
            "bottled water",
            "sausage",
            "bottled water",
            "bottled water",
            "shopping bags",
            "bottled water",
            "soda",
            "bottled water",
            "sugar",
            "bottled water",
            "tropical fruit",
            "whipped/sour cream",
            "bottled water",
            "bottled water",
            "white bread",
            "whole milk",
            "bottled water",
            "yogurt",
            "bottled water",
            "butter",
            "brown bread",
            "canned beer",
            "brown bread",
            "citrus fruit",
            "brown bread",
            "brown bread",
            "curd",
            "brown bread",
            "domestic eggs",
            "brown bread",
            "frankfurter",
            "other vegetables",
            "brown bread",
            "pastry",
            "brown bread",
            "pip fruit",
            "brown bread",
            "pork",
            "brown bread",
            "rolls/buns",
            "brown bread",
            "root vegetables",
            "brown bread",
            "sausage",
            "brown bread",
            "shopping bags",
            "brown bread",
            "brown bread",
            "soda",
            "tropical fruit",
            "brown bread",
            "whipped/sour cream",
            "brown bread",
            "brown bread",
            "white bread",
            "whole milk",
            "brown bread",
            "yogurt",
            "brown bread",
            "butter",
            "canned beer",
            "citrus fruit",
            "butter",
            "butter",
            "frankfurter",
            "fruit/vegetable juice",
            "butter",
            "butter",
            "margarine",
            "butter",
            "newspapers",
            "other vegetables",
            "butter",
            "butter",
            "pastry",
            "pip fruit",
            "butter",
            "rolls/buns",
            "butter",
            "root vegetables",
            "butter",
            "sausage",
            "butter",
            "butter",
            "shopping bags",
            "butter",
            "soda",
            "butter",
            "tropical fruit",
            "whipped/sour cream",
            "butter",
            "whole milk",
            "butter",
            "yogurt",
            "butter",
            "butter milk",
            "other vegetables",
            "butter milk",
            "rolls/buns",
            "butter milk",
            "root vegetables",
            "butter milk",
            "shopping bags",
            "butter milk",
            "soda",
            "butter milk",
            "tropical fruit",
            "butter milk",
            "whole milk",
            "yogurt",
            "butter milk",
            "citrus fruit",
            "candy",
            "other vegetables",
            "candy",
            "rolls/buns",
            "candy",
            "candy",
            "soda",
            "whole milk",
            "candy",
            "yogurt",
            "candy",
            "canned beer",
            "chicken",
            "canned beer",
            "chocolate",
            "citrus fruit",
            "canned beer",
            "coffee",
            "canned beer",
            "canned beer",
            "curd",
            "canned beer",
            "domestic eggs",
            "canned beer",
            "frankfurter",
            "frozen vegetables",
            "canned beer",
            "fruit/vegetable juice",
            "canned beer",
            "canned beer",
            "margarine",
            "canned beer",
            "newspapers",
            "other vegetables",
            "canned beer",
            "canned beer",
            "pastry",
            "pip fruit",
            "canned beer",
            "pork",
            "canned beer",
            "rolls/buns",
            "canned beer",
            "root vegetables",
            "canned beer",
            "canned beer",
            "salty snack",
            "sausage",
            "canned beer",
            "canned beer",
            "shopping bags",
            "canned beer",
            "soda",
            "canned beer",
            "tropical fruit",
            "whipped/sour cream",
            "canned beer",
            "canned beer",
            "white bread",
            "whole milk",
            "canned beer",
            "yogurt",
            "canned beer",
            "rolls/buns",
            "cat food",
            "tropical fruit",
            "cat food",
            "whole milk",
            "cat food",
            "chewing gum",
            "other vegetables",
            "chewing gum",
            "soda",
            "chewing gum",
            "whole milk",
            "yogurt",
            "chewing gum",
            "citrus fruit",
            "chicken",
            "chicken",
            "curd",
            "chicken",
            "domestic eggs",
            "chicken",
            "margarine",
            "other vegetables",
            "chicken",
            "chicken",
            "pastry",
            "pip fruit",
            "chicken",
            "rolls/buns",
            "chicken",
            "root vegetables",
            "chicken",
            "sausage",
            "chicken",
            "chicken",
            "shopping bags",
            "chicken",
            "soda",
            "chicken",
            "tropical fruit",
            "whipped/sour cream",
            "chicken",
            "whole milk",
            "chicken",
            "yogurt",
            "chicken",
            "citrus fruit",
            "chocolate",
            "other vegetables",
            "chocolate",
            "pip fruit",
            "chocolate",
            "rolls/buns",
            "chocolate",
            "root vegetables",
            "chocolate",
            "sausage",
            "chocolate",
            "chocolate",
            "soda",
            "tropical fruit",
            "chocolate",
            "whole milk",
            "chocolate",
            "yogurt",
            "chocolate",
            "coffee",
            "citrus fruit",
            "citrus fruit",
            "cream cheese ",
            "citrus fruit",
            "curd",
            "citrus fruit",
            "domestic eggs",
            "citrus fruit",
            "frankfurter",
            "citrus fruit",
            "frozen vegetables",
            "fruit/vegetable juice",
            "citrus fruit",
            "citrus fruit",
            "margarine",
            "citrus fruit",
            "napkins",
            "citrus fruit",
            "newspapers",
            "other vegetables",
            "citrus fruit",
            "citrus fruit",
            "pastry",
            "pip fruit",
            "citrus fruit",
            "citrus fruit",
            "pork",
            "rolls/buns",
            "citrus fruit",
            "root vegetables",
            "citrus fruit",
            "sausage",
            "citrus fruit",
            "citrus fruit",
            "shopping bags",
            "citrus fruit",
            "soda",
            "specialty chocolate",
            "citrus fruit",
            "citrus fruit",
            "tropical fruit",
            "whipped/sour cream",
            "citrus fruit",
            "citrus fruit",
            "white bread",
            "whole milk",
            "citrus fruit",
            "yogurt",
            "citrus fruit",
            "coffee",
            "domestic eggs",
            "coffee",
            "frankfurter",
            "other vegetables",
            "coffee",
            "coffee",
            "pastry",
            "coffee",
            "pip fruit",
            "rolls/buns",
            "coffee",
            "root vegetables",
            "coffee",
            "sausage",
            "coffee",
            "coffee",
            "shopping bags",
            "coffee",
            "soda",
            "coffee",
            "tropical fruit",
            "whole milk",
            "coffee",
            "yogurt",
            "coffee",
            "cream cheese ",
            "frankfurter",
            "other vegetables",
            "cream cheese ",
            "rolls/buns",
            "cream cheese ",
            "root vegetables",
            "cream cheese ",
            "sausage",
            "cream cheese ",
            "cream cheese ",
            "shopping bags",
            "cream cheese ",
            "soda",
            "tropical fruit",
            "cream cheese ",
            "whole milk",
            "cream cheese ",
            "yogurt",
            "cream cheese ",
            "dessert",
            "curd",
            "frankfurter",
            "curd",
            "curd",
            "margarine",
            "other vegetables",
            "curd",
            "pastry",
            "curd",
            "pip fruit",
            "curd",
            "pork",
            "curd",
            "rolls/buns",
            "curd",
            "root vegetables",
            "curd",
            "sausage",
            "curd",
            "shopping bags",
            "curd",
            "curd",
            "soda",
            "tropical fruit",
            "curd",
            "whipped/sour cream",
            "curd",
            "whole milk",
            "curd",
            "yogurt",
            "curd",
            "other vegetables",
            "dessert",
            "rolls/buns",
            "dessert",
            "root vegetables",
            "dessert",
            "sausage",
            "dessert",
            "shopping bags",
            "dessert",
            "dessert",
            "soda",
            "tropical fruit",
            "dessert",
            "whole milk",
            "dessert",
            "yogurt",
            "dessert",
            "rolls/buns",
            "detergent",
            "whole milk",
            "detergent",
            "yogurt",
            "detergent",
            "frankfurter",
            "domestic eggs",
            "fruit/vegetable juice",
            "domestic eggs",
            "newspapers",
            "domestic eggs",
            "other vegetables",
            "domestic eggs",
            "pastry",
            "domestic eggs",
            "pork",
            "domestic eggs",
            "rolls/buns",
            "domestic eggs",
            "root vegetables",
            "domestic eggs",
            "sausage",
            "domestic eggs",
            "shopping bags",
            "domestic eggs",
            "domestic eggs",
            "soda",
            "tropical fruit",
            "domestic eggs",
            "white bread",
            "domestic eggs",
            "whole milk",
            "domestic eggs",
            "yogurt",
            "domestic eggs",
            "tropical fruit",
            "flour",
            "whole milk",
            "flour",
            "frozen vegetables",
            "frankfurter",
            "fruit/vegetable juice",
            "frankfurter",
            "frankfurter",
            "margarine",
            "newspapers",
            "frankfurter",
            "other vegetables",
            "frankfurter",
            "pastry",
            "frankfurter",
            "pip fruit",
            "frankfurter",
            "rolls/buns",
            "frankfurter",
            "root vegetables",
            "frankfurter",
            "sausage",
            "frankfurter",
            "shopping bags",
            "frankfurter",
            "frankfurter",
            "soda",
            "tropical fruit",
            "frankfurter",
            "whipped/sour cream",
            "frankfurter",
            "whole milk",
            "frankfurter",
            "yogurt",
            "frankfurter",
            "whole milk",
            "frozen fish",
            "other vegetables",
            "frozen meals",
            "rolls/buns",
            "frozen meals",
            "sausage",
            "frozen meals",
            "frozen meals",
            "soda",
            "whole milk",
            "frozen meals",
            "yogurt",
            "frozen meals",
            "other vegetables",
            "frozen vegetables",
            "pip fruit",
            "frozen vegetables",
            "rolls/buns",
            "frozen vegetables",
            "root vegetables",
            "frozen vegetables",
            "sausage",
            "frozen vegetables",
            "frozen vegetables",
            "soda",
            "frozen vegetables",
            "tropical fruit",
            "whole milk",
            "frozen vegetables",
            "yogurt",
            "frozen vegetables",
            "fruit/vegetable juice",
            "margarine",
            "fruit/vegetable juice",
            "other vegetables",
            "fruit/vegetable juice",
            "pastry",
            "fruit/vegetable juice",
            "pip fruit",
            "fruit/vegetable juice",
            "rolls/buns",
            "fruit/vegetable juice",
            "root vegetables",
            "fruit/vegetable juice",
            "sausage",
            "fruit/vegetable juice",
            "soda",
            "fruit/vegetable juice",
            "tropical fruit",
            "fruit/vegetable juice",
            "whole milk",
            "fruit/vegetable juice",
            "yogurt",
            "other vegetables",
            "grapes",
            "rolls/buns",
            "grapes",
            "root vegetables",
            "grapes",
            "sausage",
            "grapes",
            "grapes",
            "soda",
            "whole milk",
            "grapes",
            "other vegetables",
            "ham",
            "rolls/buns",
            "ham",
            "ham",
            "soda",
            "tropical fruit",
            "ham",
            "whole milk",
            "ham",
            "yogurt",
            "ham",
            "other vegetables",
            "hamburger meat",
            "pastry",
            "hamburger meat",
            "rolls/buns",
            "hamburger meat",
            "root vegetables",
            "hamburger meat",
            "hamburger meat",
            "soda",
            "tropical fruit",
            "hamburger meat",
            "whole milk",
            "hamburger meat",
            "yogurt",
            "hamburger meat",
            "other vegetables",
            "hard cheese",
            "pip fruit",
            "hard cheese",
            "rolls/buns",
            "hard cheese",
            "root vegetables",
            "hard cheese",
            "whole milk",
            "hard cheese",
            "yogurt",
            "hard cheese",
            "whole milk",
            "herbs",
            "yogurt",
            "herbs",
            "hygiene articles",
            "other vegetables",
            "hygiene articles",
            "rolls/buns",
            "hygiene articles",
            "root vegetables",
            "hygiene articles",
            "soda",
            "hygiene articles",
            "whole milk",
            "other vegetables",
            "ice cream",
            "rolls/buns",
            "ice cream",
            "ice cream",
            "soda",
            "whole milk",
            "ice cream",
            "other vegetables",
            "long life bakery product",
            "rolls/buns",
            "long life bakery product",
            "sausage",
            "long life bakery product",
            "long life bakery product",
            "soda",
            "long life bakery product",
            "tropical fruit",
            "whole milk",
            "long life bakery product",
            "yogurt",
            "long life bakery product",
            "other vegetables",
            "margarine",
            "pastry",
            "margarine",
            "pip fruit",
            "margarine",
            "pork",
            "margarine",
            "rolls/buns",
            "margarine",
            "root vegetables",
            "margarine",
            "sausage",
            "margarine",
            "shopping bags",
            "margarine",
            "margarine",
            "soda",
            "tropical fruit",
            "margarine",
            "whipped/sour cream",
            "margarine",
            "whole milk",
            "margarine",
            "yogurt",
            "margarine",
            "other vegetables",
            "meat",
            "rolls/buns",
            "meat",
            "root vegetables",
            "meat",
            "meat",
            "soda",
            "whole milk",
            "meat",
            "other vegetables",
            "misc. beverages",
            "rolls/buns",
            "misc. beverages",
            "root vegetables",
            "misc. beverages",
            "sausage",
            "misc. beverages",
            "whole milk",
            "misc. beverages",
            "yogurt",
            "misc. beverages",
            "other vegetables",
            "napkins",
            "pastry",
            "napkins",
            "rolls/buns",
            "napkins",
            "root vegetables",
            "napkins",
            "napkins",
            "soda",
            "tropical fruit",
            "napkins",
            "whole milk",
            "napkins",
            "yogurt",
            "napkins",
            "other vegetables",
            "newspapers",
            "newspapers",
            "pastry",
            "pip fruit",
            "newspapers",
            "rolls/buns",
            "newspapers",
            "root vegetables",
            "newspapers",
            "sausage",
            "newspapers",
            "newspapers",
            "shopping bags",
            "newspapers",
            "soda",
            "tropical fruit",
            "newspapers",
            "whipped/sour cream",
            "newspapers",
            "whole milk",
            "newspapers",
            "yogurt",
            "newspapers",
            "other vegetables",
            "oil",
            "rolls/buns",
            "oil",
            "oil",
            "soda",
            "whole milk",
            "oil",
            "yogurt",
            "oil",
            "other vegetables",
            "onions",
            "rolls/buns",
            "onions",
            "root vegetables",
            "onions",
            "onions",
            "soda",
            "tropical fruit",
            "onions",
            "whipped/sour cream",
            "onions",
            "whole milk",
            "onions",
            "yogurt",
            "onions",
            "other vegetables",
            "pastry",
            "other vegetables",
            "pip fruit",
            "other vegetables",
            "pork",
            "other vegetables",
            "pot plants",
            "other vegetables",
            "red/blush wine",
            "rolls/buns",
            "other vegetables",
            "root vegetables",
            "other vegetables",
            "other vegetables",
            "salty snack",
            "sausage",
            "other vegetables",
            "semi-finished bread",
            "other vegetables",
            "other vegetables",
            "shopping bags",
            "other vegetables",
            "sliced cheese",
            "other vegetables",
            "soda",
            "other vegetables",
            "soft cheese",
            "other vegetables",
            "specialty bar",
            "specialty chocolate",
            "other vegetables",
            "other vegetables",
            "sugar",
            "other vegetables",
            "tropical fruit",
            "waffles",
            "other vegetables",
            "whipped/sour cream",
            "other vegetables",
            "other vegetables",
            "white bread",
            "whole milk",
            "other vegetables",
            "yogurt",
            "other vegetables",
            "rolls/buns",
            "packaged fruit/vegetables",
            "whole milk",
            "pasta",
            "pip fruit",
            "pastry",
            "pork",
            "pastry",
            "rolls/buns",
            "pastry",
            "root vegetables",
            "pastry",
            "sausage",
            "pastry",
            "shopping bags",
            "pastry",
            "pastry",
            "soda",
            "tropical fruit",
            "pastry",
            "whipped/sour cream",
            "pastry",
            "whole milk",
            "pastry",
            "yogurt",
            "pastry",
            "whole milk",
            "pickled vegetables",
            "pip fruit",
            "pork",
            "rolls/buns",
            "pip fruit",
            "root vegetables",
            "pip fruit",
            "sausage",
            "pip fruit",
            "pip fruit",
            "shopping bags",
            "pip fruit",
            "soda",
            "pip fruit",
            "tropical fruit",
            "whipped/sour cream",
            "pip fruit",
            "whole milk",
            "pip fruit",
            "yogurt",
            "pip fruit",
            "rolls/buns",
            "pork",
            "root vegetables",
            "pork",
            "sausage",
            "pork",
            "pork",
            "shopping bags",
            "pork",
            "soda",
            "pork",
            "tropical fruit",
            "whole milk",
            "pork",
            "yogurt",
            "pork",
            "whole milk",
            "pot plants",
            "rolls/buns",
            "processed cheese",
            "root vegetables",
            "processed cheese",
            "whole milk",
            "processed cheese",
            "rolls/buns",
            "red/blush wine",
            "rolls/buns",
            "root vegetables",
            "rolls/buns",
            "salty snack",
            "rolls/buns",
            "sausage",
            "seasonal products",
            "rolls/buns",
            "rolls/buns",
            "shopping bags",
            "rolls/buns",
            "soda",
            "rolls/buns",
            "soft cheese",
            "rolls/buns",
            "specialty bar",
            "specialty chocolate",
            "rolls/buns",
            "rolls/buns",
            "tropical fruit",
            "waffles",
            "rolls/buns",
            "whipped/sour cream",
            "rolls/buns",
            "rolls/buns",
            "white bread",
            "rolls/buns",
            "whole milk",
            "yogurt",
            "rolls/buns",
            "root vegetables",
            "salty snack",
            "sausage",
            "root vegetables",
            "root vegetables",
            "shopping bags",
            "root vegetables",
            "sliced cheese",
            "root vegetables",
            "soda",
            "root vegetables",
            "tropical fruit",
            "waffles",
            "root vegetables",
            "whipped/sour cream",
            "root vegetables",
            "root vegetables",
            "white bread",
            "root vegetables",
            "whole milk",
            "yogurt",
            "root vegetables",
            "sausage",
            "salty snack",
            "salty snack",
            "soda",
            "tropical fruit",
            "salty snack",
            "whole milk",
            "salty snack",
            "yogurt",
            "salty snack",
            "sausage",
            "shopping bags",
            "sausage",
            "sliced cheese",
            "sausage",
            "soda",
            "sausage",
            "tropical fruit",
            "whipped/sour cream",
            "sausage",
            "sausage",
            "white bread",
            "sausage",
            "whole milk",
            "yogurt",
            "sausage",
            "semi-finished bread",
            "whole milk",
            "shopping bags",
            "soda",
            "tropical fruit",
            "shopping bags",
            "whipped/sour cream",
            "shopping bags",
            "whole milk",
            "shopping bags",
            "yogurt",
            "shopping bags",
            "sliced cheese",
            "soda",
            "whole milk",
            "sliced cheese",
            "specialty bar",
            "soda",
            "specialty chocolate",
            "soda",
            "sugar",
            "soda",
            "tropical fruit",
            "soda",
            "whipped/sour cream",
            "soda",
            "white bread",
            "soda",
            "whole milk",
            "soda",
            "yogurt",
            "soda",
            "whole milk",
            "soft cheese",
            "yogurt",
            "soft cheese",
            "whole milk",
            "specialty bar",
            "yogurt",
            "specialty bar",
            "specialty chocolate",
            "tropical fruit",
            "specialty chocolate",
            "whole milk",
            "sugar",
            "tropical fruit",
            "whole milk",
            "sugar",
            "waffles",
            "tropical fruit",
            "whipped/sour cream",
            "tropical fruit",
            "tropical fruit",
            "white bread",
            "whole milk",
            "tropical fruit",
            "yogurt",
            "tropical fruit",
            "waffles",
            "whole milk",
            "yogurt",
            "waffles",
            "whipped/sour cream",
            "white bread",
            "whipped/sour cream",
            "whole milk",
            "whipped/sour cream",
            "yogurt",
            "whole milk",
            "white bread",
            "yogurt",
            "white bread",
            "whole milk",
            "white wine",
            "yogurt",
            "whole milk"
           ]
          }
         ],
         "type": "parcats"
        }
       ],
       "layout": {
        "paper_bgcolor": "white",
        "plot_bgcolor": "white",
        "template": {
         "data": {
          "bar": [
           {
            "error_x": {
             "color": "#2a3f5f"
            },
            "error_y": {
             "color": "#2a3f5f"
            },
            "marker": {
             "line": {
              "color": "#E5ECF6",
              "width": 0.5
             },
             "pattern": {
              "fillmode": "overlay",
              "size": 10,
              "solidity": 0.2
             }
            },
            "type": "bar"
           }
          ],
          "barpolar": [
           {
            "marker": {
             "line": {
              "color": "#E5ECF6",
              "width": 0.5
             },
             "pattern": {
              "fillmode": "overlay",
              "size": 10,
              "solidity": 0.2
             }
            },
            "type": "barpolar"
           }
          ],
          "carpet": [
           {
            "aaxis": {
             "endlinecolor": "#2a3f5f",
             "gridcolor": "white",
             "linecolor": "white",
             "minorgridcolor": "white",
             "startlinecolor": "#2a3f5f"
            },
            "baxis": {
             "endlinecolor": "#2a3f5f",
             "gridcolor": "white",
             "linecolor": "white",
             "minorgridcolor": "white",
             "startlinecolor": "#2a3f5f"
            },
            "type": "carpet"
           }
          ],
          "choropleth": [
           {
            "colorbar": {
             "outlinewidth": 0,
             "ticks": ""
            },
            "type": "choropleth"
           }
          ],
          "contour": [
           {
            "colorbar": {
             "outlinewidth": 0,
             "ticks": ""
            },
            "colorscale": [
             [
              0,
              "#0d0887"
             ],
             [
              0.1111111111111111,
              "#46039f"
             ],
             [
              0.2222222222222222,
              "#7201a8"
             ],
             [
              0.3333333333333333,
              "#9c179e"
             ],
             [
              0.4444444444444444,
              "#bd3786"
             ],
             [
              0.5555555555555556,
              "#d8576b"
             ],
             [
              0.6666666666666666,
              "#ed7953"
             ],
             [
              0.7777777777777778,
              "#fb9f3a"
             ],
             [
              0.8888888888888888,
              "#fdca26"
             ],
             [
              1,
              "#f0f921"
             ]
            ],
            "type": "contour"
           }
          ],
          "contourcarpet": [
           {
            "colorbar": {
             "outlinewidth": 0,
             "ticks": ""
            },
            "type": "contourcarpet"
           }
          ],
          "heatmap": [
           {
            "colorbar": {
             "outlinewidth": 0,
             "ticks": ""
            },
            "colorscale": [
             [
              0,
              "#0d0887"
             ],
             [
              0.1111111111111111,
              "#46039f"
             ],
             [
              0.2222222222222222,
              "#7201a8"
             ],
             [
              0.3333333333333333,
              "#9c179e"
             ],
             [
              0.4444444444444444,
              "#bd3786"
             ],
             [
              0.5555555555555556,
              "#d8576b"
             ],
             [
              0.6666666666666666,
              "#ed7953"
             ],
             [
              0.7777777777777778,
              "#fb9f3a"
             ],
             [
              0.8888888888888888,
              "#fdca26"
             ],
             [
              1,
              "#f0f921"
             ]
            ],
            "type": "heatmap"
           }
          ],
          "heatmapgl": [
           {
            "colorbar": {
             "outlinewidth": 0,
             "ticks": ""
            },
            "colorscale": [
             [
              0,
              "#0d0887"
             ],
             [
              0.1111111111111111,
              "#46039f"
             ],
             [
              0.2222222222222222,
              "#7201a8"
             ],
             [
              0.3333333333333333,
              "#9c179e"
             ],
             [
              0.4444444444444444,
              "#bd3786"
             ],
             [
              0.5555555555555556,
              "#d8576b"
             ],
             [
              0.6666666666666666,
              "#ed7953"
             ],
             [
              0.7777777777777778,
              "#fb9f3a"
             ],
             [
              0.8888888888888888,
              "#fdca26"
             ],
             [
              1,
              "#f0f921"
             ]
            ],
            "type": "heatmapgl"
           }
          ],
          "histogram": [
           {
            "marker": {
             "pattern": {
              "fillmode": "overlay",
              "size": 10,
              "solidity": 0.2
             }
            },
            "type": "histogram"
           }
          ],
          "histogram2d": [
           {
            "colorbar": {
             "outlinewidth": 0,
             "ticks": ""
            },
            "colorscale": [
             [
              0,
              "#0d0887"
             ],
             [
              0.1111111111111111,
              "#46039f"
             ],
             [
              0.2222222222222222,
              "#7201a8"
             ],
             [
              0.3333333333333333,
              "#9c179e"
             ],
             [
              0.4444444444444444,
              "#bd3786"
             ],
             [
              0.5555555555555556,
              "#d8576b"
             ],
             [
              0.6666666666666666,
              "#ed7953"
             ],
             [
              0.7777777777777778,
              "#fb9f3a"
             ],
             [
              0.8888888888888888,
              "#fdca26"
             ],
             [
              1,
              "#f0f921"
             ]
            ],
            "type": "histogram2d"
           }
          ],
          "histogram2dcontour": [
           {
            "colorbar": {
             "outlinewidth": 0,
             "ticks": ""
            },
            "colorscale": [
             [
              0,
              "#0d0887"
             ],
             [
              0.1111111111111111,
              "#46039f"
             ],
             [
              0.2222222222222222,
              "#7201a8"
             ],
             [
              0.3333333333333333,
              "#9c179e"
             ],
             [
              0.4444444444444444,
              "#bd3786"
             ],
             [
              0.5555555555555556,
              "#d8576b"
             ],
             [
              0.6666666666666666,
              "#ed7953"
             ],
             [
              0.7777777777777778,
              "#fb9f3a"
             ],
             [
              0.8888888888888888,
              "#fdca26"
             ],
             [
              1,
              "#f0f921"
             ]
            ],
            "type": "histogram2dcontour"
           }
          ],
          "mesh3d": [
           {
            "colorbar": {
             "outlinewidth": 0,
             "ticks": ""
            },
            "type": "mesh3d"
           }
          ],
          "parcoords": [
           {
            "line": {
             "colorbar": {
              "outlinewidth": 0,
              "ticks": ""
             }
            },
            "type": "parcoords"
           }
          ],
          "pie": [
           {
            "automargin": true,
            "type": "pie"
           }
          ],
          "scatter": [
           {
            "fillpattern": {
             "fillmode": "overlay",
             "size": 10,
             "solidity": 0.2
            },
            "type": "scatter"
           }
          ],
          "scatter3d": [
           {
            "line": {
             "colorbar": {
              "outlinewidth": 0,
              "ticks": ""
             }
            },
            "marker": {
             "colorbar": {
              "outlinewidth": 0,
              "ticks": ""
             }
            },
            "type": "scatter3d"
           }
          ],
          "scattercarpet": [
           {
            "marker": {
             "colorbar": {
              "outlinewidth": 0,
              "ticks": ""
             }
            },
            "type": "scattercarpet"
           }
          ],
          "scattergeo": [
           {
            "marker": {
             "colorbar": {
              "outlinewidth": 0,
              "ticks": ""
             }
            },
            "type": "scattergeo"
           }
          ],
          "scattergl": [
           {
            "marker": {
             "colorbar": {
              "outlinewidth": 0,
              "ticks": ""
             }
            },
            "type": "scattergl"
           }
          ],
          "scattermapbox": [
           {
            "marker": {
             "colorbar": {
              "outlinewidth": 0,
              "ticks": ""
             }
            },
            "type": "scattermapbox"
           }
          ],
          "scatterpolar": [
           {
            "marker": {
             "colorbar": {
              "outlinewidth": 0,
              "ticks": ""
             }
            },
            "type": "scatterpolar"
           }
          ],
          "scatterpolargl": [
           {
            "marker": {
             "colorbar": {
              "outlinewidth": 0,
              "ticks": ""
             }
            },
            "type": "scatterpolargl"
           }
          ],
          "scatterternary": [
           {
            "marker": {
             "colorbar": {
              "outlinewidth": 0,
              "ticks": ""
             }
            },
            "type": "scatterternary"
           }
          ],
          "surface": [
           {
            "colorbar": {
             "outlinewidth": 0,
             "ticks": ""
            },
            "colorscale": [
             [
              0,
              "#0d0887"
             ],
             [
              0.1111111111111111,
              "#46039f"
             ],
             [
              0.2222222222222222,
              "#7201a8"
             ],
             [
              0.3333333333333333,
              "#9c179e"
             ],
             [
              0.4444444444444444,
              "#bd3786"
             ],
             [
              0.5555555555555556,
              "#d8576b"
             ],
             [
              0.6666666666666666,
              "#ed7953"
             ],
             [
              0.7777777777777778,
              "#fb9f3a"
             ],
             [
              0.8888888888888888,
              "#fdca26"
             ],
             [
              1,
              "#f0f921"
             ]
            ],
            "type": "surface"
           }
          ],
          "table": [
           {
            "cells": {
             "fill": {
              "color": "#EBF0F8"
             },
             "line": {
              "color": "white"
             }
            },
            "header": {
             "fill": {
              "color": "#C8D4E3"
             },
             "line": {
              "color": "white"
             }
            },
            "type": "table"
           }
          ]
         },
         "layout": {
          "annotationdefaults": {
           "arrowcolor": "#2a3f5f",
           "arrowhead": 0,
           "arrowwidth": 1
          },
          "autotypenumbers": "strict",
          "coloraxis": {
           "colorbar": {
            "outlinewidth": 0,
            "ticks": ""
           }
          },
          "colorscale": {
           "diverging": [
            [
             0,
             "#8e0152"
            ],
            [
             0.1,
             "#c51b7d"
            ],
            [
             0.2,
             "#de77ae"
            ],
            [
             0.3,
             "#f1b6da"
            ],
            [
             0.4,
             "#fde0ef"
            ],
            [
             0.5,
             "#f7f7f7"
            ],
            [
             0.6,
             "#e6f5d0"
            ],
            [
             0.7,
             "#b8e186"
            ],
            [
             0.8,
             "#7fbc41"
            ],
            [
             0.9,
             "#4d9221"
            ],
            [
             1,
             "#276419"
            ]
           ],
           "sequential": [
            [
             0,
             "#0d0887"
            ],
            [
             0.1111111111111111,
             "#46039f"
            ],
            [
             0.2222222222222222,
             "#7201a8"
            ],
            [
             0.3333333333333333,
             "#9c179e"
            ],
            [
             0.4444444444444444,
             "#bd3786"
            ],
            [
             0.5555555555555556,
             "#d8576b"
            ],
            [
             0.6666666666666666,
             "#ed7953"
            ],
            [
             0.7777777777777778,
             "#fb9f3a"
            ],
            [
             0.8888888888888888,
             "#fdca26"
            ],
            [
             1,
             "#f0f921"
            ]
           ],
           "sequentialminus": [
            [
             0,
             "#0d0887"
            ],
            [
             0.1111111111111111,
             "#46039f"
            ],
            [
             0.2222222222222222,
             "#7201a8"
            ],
            [
             0.3333333333333333,
             "#9c179e"
            ],
            [
             0.4444444444444444,
             "#bd3786"
            ],
            [
             0.5555555555555556,
             "#d8576b"
            ],
            [
             0.6666666666666666,
             "#ed7953"
            ],
            [
             0.7777777777777778,
             "#fb9f3a"
            ],
            [
             0.8888888888888888,
             "#fdca26"
            ],
            [
             1,
             "#f0f921"
            ]
           ]
          },
          "colorway": [
           "#636efa",
           "#EF553B",
           "#00cc96",
           "#ab63fa",
           "#FFA15A",
           "#19d3f3",
           "#FF6692",
           "#B6E880",
           "#FF97FF",
           "#FECB52"
          ],
          "font": {
           "color": "#2a3f5f"
          },
          "geo": {
           "bgcolor": "white",
           "lakecolor": "white",
           "landcolor": "#E5ECF6",
           "showlakes": true,
           "showland": true,
           "subunitcolor": "white"
          },
          "hoverlabel": {
           "align": "left"
          },
          "hovermode": "closest",
          "mapbox": {
           "style": "light"
          },
          "paper_bgcolor": "white",
          "plot_bgcolor": "#E5ECF6",
          "polar": {
           "angularaxis": {
            "gridcolor": "white",
            "linecolor": "white",
            "ticks": ""
           },
           "bgcolor": "#E5ECF6",
           "radialaxis": {
            "gridcolor": "white",
            "linecolor": "white",
            "ticks": ""
           }
          },
          "scene": {
           "xaxis": {
            "backgroundcolor": "#E5ECF6",
            "gridcolor": "white",
            "gridwidth": 2,
            "linecolor": "white",
            "showbackground": true,
            "ticks": "",
            "zerolinecolor": "white"
           },
           "yaxis": {
            "backgroundcolor": "#E5ECF6",
            "gridcolor": "white",
            "gridwidth": 2,
            "linecolor": "white",
            "showbackground": true,
            "ticks": "",
            "zerolinecolor": "white"
           },
           "zaxis": {
            "backgroundcolor": "#E5ECF6",
            "gridcolor": "white",
            "gridwidth": 2,
            "linecolor": "white",
            "showbackground": true,
            "ticks": "",
            "zerolinecolor": "white"
           }
          },
          "shapedefaults": {
           "line": {
            "color": "#2a3f5f"
           }
          },
          "ternary": {
           "aaxis": {
            "gridcolor": "white",
            "linecolor": "white",
            "ticks": ""
           },
           "baxis": {
            "gridcolor": "white",
            "linecolor": "white",
            "ticks": ""
           },
           "bgcolor": "#E5ECF6",
           "caxis": {
            "gridcolor": "white",
            "linecolor": "white",
            "ticks": ""
           }
          },
          "title": {
           "x": 0.05
          },
          "xaxis": {
           "automargin": true,
           "gridcolor": "white",
           "linecolor": "white",
           "ticks": "",
           "title": {
            "standoff": 15
           },
           "zerolinecolor": "white",
           "zerolinewidth": 2
          },
          "yaxis": {
           "automargin": true,
           "gridcolor": "white",
           "linecolor": "white",
           "ticks": "",
           "title": {
            "standoff": 15
           },
           "zerolinecolor": "white",
           "zerolinewidth": 2
          }
         }
        }
       }
      }
     },
     "metadata": {},
     "output_type": "display_data"
    },
    {
     "data": {
      "application/vnd.plotly.v1+json": {
       "config": {
        "plotlyServerURL": "https://plot.ly"
       },
       "data": [
        {
         "dimensions": [
          {
           "label": "Antacedent 2",
           "values": [
            "soda",
            "soda",
            "rolls/buns",
            "whole milk",
            "rolls/buns",
            "rolls/buns",
            "soda",
            "soda",
            "whole milk",
            "whole milk",
            "other vegetables",
            "whole milk",
            "whole milk",
            "rolls/buns",
            "rolls/buns",
            "soda",
            "soda",
            "rolls/buns",
            "rolls/buns",
            "whole milk",
            "rolls/buns",
            "soda",
            "soda",
            "sausage",
            "sausage",
            "whole milk",
            "sausage"
           ]
          },
          {
           "label": "Antacedent 1",
           "values": [
            "other vegetables",
            "rolls/buns",
            "other vegetables",
            "other vegetables",
            "other vegetables",
            "whole milk",
            "other vegetables",
            "whole milk",
            "other vegetables",
            "other vegetables",
            "yogurt",
            "yogurt",
            "sausage",
            "sausage",
            "whole milk",
            "whole milk",
            "rolls/buns",
            "whole milk",
            "whole milk",
            "yogurt",
            "yogurt",
            "whole milk",
            "sausage",
            "whole milk",
            "whole milk",
            "yogurt",
            "yogurt"
           ]
          },
          {
           "label": "Consequent",
           "values": [
            "rolls/buns",
            "other vegetables",
            "soda",
            "rolls/buns",
            "whole milk",
            "other vegetables",
            "whole milk",
            "other vegetables",
            "soda",
            "yogurt",
            "whole milk",
            "other vegetables",
            "rolls/buns",
            "whole milk",
            "sausage",
            "rolls/buns",
            "whole milk",
            "soda",
            "yogurt",
            "rolls/buns",
            "whole milk",
            "sausage",
            "whole milk",
            "soda",
            "yogurt",
            "sausage",
            "whole milk"
           ]
          }
         ],
         "type": "parcats"
        }
       ],
       "layout": {
        "paper_bgcolor": "white",
        "plot_bgcolor": "white",
        "template": {
         "data": {
          "bar": [
           {
            "error_x": {
             "color": "#2a3f5f"
            },
            "error_y": {
             "color": "#2a3f5f"
            },
            "marker": {
             "line": {
              "color": "#E5ECF6",
              "width": 0.5
             },
             "pattern": {
              "fillmode": "overlay",
              "size": 10,
              "solidity": 0.2
             }
            },
            "type": "bar"
           }
          ],
          "barpolar": [
           {
            "marker": {
             "line": {
              "color": "#E5ECF6",
              "width": 0.5
             },
             "pattern": {
              "fillmode": "overlay",
              "size": 10,
              "solidity": 0.2
             }
            },
            "type": "barpolar"
           }
          ],
          "carpet": [
           {
            "aaxis": {
             "endlinecolor": "#2a3f5f",
             "gridcolor": "white",
             "linecolor": "white",
             "minorgridcolor": "white",
             "startlinecolor": "#2a3f5f"
            },
            "baxis": {
             "endlinecolor": "#2a3f5f",
             "gridcolor": "white",
             "linecolor": "white",
             "minorgridcolor": "white",
             "startlinecolor": "#2a3f5f"
            },
            "type": "carpet"
           }
          ],
          "choropleth": [
           {
            "colorbar": {
             "outlinewidth": 0,
             "ticks": ""
            },
            "type": "choropleth"
           }
          ],
          "contour": [
           {
            "colorbar": {
             "outlinewidth": 0,
             "ticks": ""
            },
            "colorscale": [
             [
              0,
              "#0d0887"
             ],
             [
              0.1111111111111111,
              "#46039f"
             ],
             [
              0.2222222222222222,
              "#7201a8"
             ],
             [
              0.3333333333333333,
              "#9c179e"
             ],
             [
              0.4444444444444444,
              "#bd3786"
             ],
             [
              0.5555555555555556,
              "#d8576b"
             ],
             [
              0.6666666666666666,
              "#ed7953"
             ],
             [
              0.7777777777777778,
              "#fb9f3a"
             ],
             [
              0.8888888888888888,
              "#fdca26"
             ],
             [
              1,
              "#f0f921"
             ]
            ],
            "type": "contour"
           }
          ],
          "contourcarpet": [
           {
            "colorbar": {
             "outlinewidth": 0,
             "ticks": ""
            },
            "type": "contourcarpet"
           }
          ],
          "heatmap": [
           {
            "colorbar": {
             "outlinewidth": 0,
             "ticks": ""
            },
            "colorscale": [
             [
              0,
              "#0d0887"
             ],
             [
              0.1111111111111111,
              "#46039f"
             ],
             [
              0.2222222222222222,
              "#7201a8"
             ],
             [
              0.3333333333333333,
              "#9c179e"
             ],
             [
              0.4444444444444444,
              "#bd3786"
             ],
             [
              0.5555555555555556,
              "#d8576b"
             ],
             [
              0.6666666666666666,
              "#ed7953"
             ],
             [
              0.7777777777777778,
              "#fb9f3a"
             ],
             [
              0.8888888888888888,
              "#fdca26"
             ],
             [
              1,
              "#f0f921"
             ]
            ],
            "type": "heatmap"
           }
          ],
          "heatmapgl": [
           {
            "colorbar": {
             "outlinewidth": 0,
             "ticks": ""
            },
            "colorscale": [
             [
              0,
              "#0d0887"
             ],
             [
              0.1111111111111111,
              "#46039f"
             ],
             [
              0.2222222222222222,
              "#7201a8"
             ],
             [
              0.3333333333333333,
              "#9c179e"
             ],
             [
              0.4444444444444444,
              "#bd3786"
             ],
             [
              0.5555555555555556,
              "#d8576b"
             ],
             [
              0.6666666666666666,
              "#ed7953"
             ],
             [
              0.7777777777777778,
              "#fb9f3a"
             ],
             [
              0.8888888888888888,
              "#fdca26"
             ],
             [
              1,
              "#f0f921"
             ]
            ],
            "type": "heatmapgl"
           }
          ],
          "histogram": [
           {
            "marker": {
             "pattern": {
              "fillmode": "overlay",
              "size": 10,
              "solidity": 0.2
             }
            },
            "type": "histogram"
           }
          ],
          "histogram2d": [
           {
            "colorbar": {
             "outlinewidth": 0,
             "ticks": ""
            },
            "colorscale": [
             [
              0,
              "#0d0887"
             ],
             [
              0.1111111111111111,
              "#46039f"
             ],
             [
              0.2222222222222222,
              "#7201a8"
             ],
             [
              0.3333333333333333,
              "#9c179e"
             ],
             [
              0.4444444444444444,
              "#bd3786"
             ],
             [
              0.5555555555555556,
              "#d8576b"
             ],
             [
              0.6666666666666666,
              "#ed7953"
             ],
             [
              0.7777777777777778,
              "#fb9f3a"
             ],
             [
              0.8888888888888888,
              "#fdca26"
             ],
             [
              1,
              "#f0f921"
             ]
            ],
            "type": "histogram2d"
           }
          ],
          "histogram2dcontour": [
           {
            "colorbar": {
             "outlinewidth": 0,
             "ticks": ""
            },
            "colorscale": [
             [
              0,
              "#0d0887"
             ],
             [
              0.1111111111111111,
              "#46039f"
             ],
             [
              0.2222222222222222,
              "#7201a8"
             ],
             [
              0.3333333333333333,
              "#9c179e"
             ],
             [
              0.4444444444444444,
              "#bd3786"
             ],
             [
              0.5555555555555556,
              "#d8576b"
             ],
             [
              0.6666666666666666,
              "#ed7953"
             ],
             [
              0.7777777777777778,
              "#fb9f3a"
             ],
             [
              0.8888888888888888,
              "#fdca26"
             ],
             [
              1,
              "#f0f921"
             ]
            ],
            "type": "histogram2dcontour"
           }
          ],
          "mesh3d": [
           {
            "colorbar": {
             "outlinewidth": 0,
             "ticks": ""
            },
            "type": "mesh3d"
           }
          ],
          "parcoords": [
           {
            "line": {
             "colorbar": {
              "outlinewidth": 0,
              "ticks": ""
             }
            },
            "type": "parcoords"
           }
          ],
          "pie": [
           {
            "automargin": true,
            "type": "pie"
           }
          ],
          "scatter": [
           {
            "fillpattern": {
             "fillmode": "overlay",
             "size": 10,
             "solidity": 0.2
            },
            "type": "scatter"
           }
          ],
          "scatter3d": [
           {
            "line": {
             "colorbar": {
              "outlinewidth": 0,
              "ticks": ""
             }
            },
            "marker": {
             "colorbar": {
              "outlinewidth": 0,
              "ticks": ""
             }
            },
            "type": "scatter3d"
           }
          ],
          "scattercarpet": [
           {
            "marker": {
             "colorbar": {
              "outlinewidth": 0,
              "ticks": ""
             }
            },
            "type": "scattercarpet"
           }
          ],
          "scattergeo": [
           {
            "marker": {
             "colorbar": {
              "outlinewidth": 0,
              "ticks": ""
             }
            },
            "type": "scattergeo"
           }
          ],
          "scattergl": [
           {
            "marker": {
             "colorbar": {
              "outlinewidth": 0,
              "ticks": ""
             }
            },
            "type": "scattergl"
           }
          ],
          "scattermapbox": [
           {
            "marker": {
             "colorbar": {
              "outlinewidth": 0,
              "ticks": ""
             }
            },
            "type": "scattermapbox"
           }
          ],
          "scatterpolar": [
           {
            "marker": {
             "colorbar": {
              "outlinewidth": 0,
              "ticks": ""
             }
            },
            "type": "scatterpolar"
           }
          ],
          "scatterpolargl": [
           {
            "marker": {
             "colorbar": {
              "outlinewidth": 0,
              "ticks": ""
             }
            },
            "type": "scatterpolargl"
           }
          ],
          "scatterternary": [
           {
            "marker": {
             "colorbar": {
              "outlinewidth": 0,
              "ticks": ""
             }
            },
            "type": "scatterternary"
           }
          ],
          "surface": [
           {
            "colorbar": {
             "outlinewidth": 0,
             "ticks": ""
            },
            "colorscale": [
             [
              0,
              "#0d0887"
             ],
             [
              0.1111111111111111,
              "#46039f"
             ],
             [
              0.2222222222222222,
              "#7201a8"
             ],
             [
              0.3333333333333333,
              "#9c179e"
             ],
             [
              0.4444444444444444,
              "#bd3786"
             ],
             [
              0.5555555555555556,
              "#d8576b"
             ],
             [
              0.6666666666666666,
              "#ed7953"
             ],
             [
              0.7777777777777778,
              "#fb9f3a"
             ],
             [
              0.8888888888888888,
              "#fdca26"
             ],
             [
              1,
              "#f0f921"
             ]
            ],
            "type": "surface"
           }
          ],
          "table": [
           {
            "cells": {
             "fill": {
              "color": "#EBF0F8"
             },
             "line": {
              "color": "white"
             }
            },
            "header": {
             "fill": {
              "color": "#C8D4E3"
             },
             "line": {
              "color": "white"
             }
            },
            "type": "table"
           }
          ]
         },
         "layout": {
          "annotationdefaults": {
           "arrowcolor": "#2a3f5f",
           "arrowhead": 0,
           "arrowwidth": 1
          },
          "autotypenumbers": "strict",
          "coloraxis": {
           "colorbar": {
            "outlinewidth": 0,
            "ticks": ""
           }
          },
          "colorscale": {
           "diverging": [
            [
             0,
             "#8e0152"
            ],
            [
             0.1,
             "#c51b7d"
            ],
            [
             0.2,
             "#de77ae"
            ],
            [
             0.3,
             "#f1b6da"
            ],
            [
             0.4,
             "#fde0ef"
            ],
            [
             0.5,
             "#f7f7f7"
            ],
            [
             0.6,
             "#e6f5d0"
            ],
            [
             0.7,
             "#b8e186"
            ],
            [
             0.8,
             "#7fbc41"
            ],
            [
             0.9,
             "#4d9221"
            ],
            [
             1,
             "#276419"
            ]
           ],
           "sequential": [
            [
             0,
             "#0d0887"
            ],
            [
             0.1111111111111111,
             "#46039f"
            ],
            [
             0.2222222222222222,
             "#7201a8"
            ],
            [
             0.3333333333333333,
             "#9c179e"
            ],
            [
             0.4444444444444444,
             "#bd3786"
            ],
            [
             0.5555555555555556,
             "#d8576b"
            ],
            [
             0.6666666666666666,
             "#ed7953"
            ],
            [
             0.7777777777777778,
             "#fb9f3a"
            ],
            [
             0.8888888888888888,
             "#fdca26"
            ],
            [
             1,
             "#f0f921"
            ]
           ],
           "sequentialminus": [
            [
             0,
             "#0d0887"
            ],
            [
             0.1111111111111111,
             "#46039f"
            ],
            [
             0.2222222222222222,
             "#7201a8"
            ],
            [
             0.3333333333333333,
             "#9c179e"
            ],
            [
             0.4444444444444444,
             "#bd3786"
            ],
            [
             0.5555555555555556,
             "#d8576b"
            ],
            [
             0.6666666666666666,
             "#ed7953"
            ],
            [
             0.7777777777777778,
             "#fb9f3a"
            ],
            [
             0.8888888888888888,
             "#fdca26"
            ],
            [
             1,
             "#f0f921"
            ]
           ]
          },
          "colorway": [
           "#636efa",
           "#EF553B",
           "#00cc96",
           "#ab63fa",
           "#FFA15A",
           "#19d3f3",
           "#FF6692",
           "#B6E880",
           "#FF97FF",
           "#FECB52"
          ],
          "font": {
           "color": "#2a3f5f"
          },
          "geo": {
           "bgcolor": "white",
           "lakecolor": "white",
           "landcolor": "#E5ECF6",
           "showlakes": true,
           "showland": true,
           "subunitcolor": "white"
          },
          "hoverlabel": {
           "align": "left"
          },
          "hovermode": "closest",
          "mapbox": {
           "style": "light"
          },
          "paper_bgcolor": "white",
          "plot_bgcolor": "#E5ECF6",
          "polar": {
           "angularaxis": {
            "gridcolor": "white",
            "linecolor": "white",
            "ticks": ""
           },
           "bgcolor": "#E5ECF6",
           "radialaxis": {
            "gridcolor": "white",
            "linecolor": "white",
            "ticks": ""
           }
          },
          "scene": {
           "xaxis": {
            "backgroundcolor": "#E5ECF6",
            "gridcolor": "white",
            "gridwidth": 2,
            "linecolor": "white",
            "showbackground": true,
            "ticks": "",
            "zerolinecolor": "white"
           },
           "yaxis": {
            "backgroundcolor": "#E5ECF6",
            "gridcolor": "white",
            "gridwidth": 2,
            "linecolor": "white",
            "showbackground": true,
            "ticks": "",
            "zerolinecolor": "white"
           },
           "zaxis": {
            "backgroundcolor": "#E5ECF6",
            "gridcolor": "white",
            "gridwidth": 2,
            "linecolor": "white",
            "showbackground": true,
            "ticks": "",
            "zerolinecolor": "white"
           }
          },
          "shapedefaults": {
           "line": {
            "color": "#2a3f5f"
           }
          },
          "ternary": {
           "aaxis": {
            "gridcolor": "white",
            "linecolor": "white",
            "ticks": ""
           },
           "baxis": {
            "gridcolor": "white",
            "linecolor": "white",
            "ticks": ""
           },
           "bgcolor": "#E5ECF6",
           "caxis": {
            "gridcolor": "white",
            "linecolor": "white",
            "ticks": ""
           }
          },
          "title": {
           "x": 0.05
          },
          "xaxis": {
           "automargin": true,
           "gridcolor": "white",
           "linecolor": "white",
           "ticks": "",
           "title": {
            "standoff": 15
           },
           "zerolinecolor": "white",
           "zerolinewidth": 2
          },
          "yaxis": {
           "automargin": true,
           "gridcolor": "white",
           "linecolor": "white",
           "ticks": "",
           "title": {
            "standoff": 15
           },
           "zerolinecolor": "white",
           "zerolinewidth": 2
          }
         }
        }
       }
      }
     },
     "metadata": {},
     "output_type": "display_data"
    }
   ],
   "source": [
    "PyARMViz.adjacency_parallel_category_plot(rules)"
   ]
  }
 ],
 "metadata": {
  "kernelspec": {
   "display_name": "Python 3",
   "language": "python",
   "name": "python3"
  },
  "language_info": {
   "codemirror_mode": {
    "name": "ipython",
    "version": 3
   },
   "file_extension": ".py",
   "mimetype": "text/x-python",
   "name": "python",
   "nbconvert_exporter": "python",
   "pygments_lexer": "ipython3",
   "version": "3.12.4"
  }
 },
 "nbformat": 4,
 "nbformat_minor": 2
}
